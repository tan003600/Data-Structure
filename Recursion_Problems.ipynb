{
  "nbformat": 4,
  "nbformat_minor": 0,
  "metadata": {
    "colab": {
      "provenance": [],
      "authorship_tag": "ABX9TyMA6B9z44hJCfAAUz/BJzS+",
      "include_colab_link": true
    },
    "kernelspec": {
      "name": "python3",
      "display_name": "Python 3"
    },
    "language_info": {
      "name": "python"
    }
  },
  "cells": [
    {
      "cell_type": "markdown",
      "metadata": {
        "id": "view-in-github",
        "colab_type": "text"
      },
      "source": [
        "<a href=\"https://colab.research.google.com/github/tan003600/Data-Structure/blob/main/Recursion_Problems.ipynb\" target=\"_parent\"><img src=\"https://colab.research.google.com/assets/colab-badge.svg\" alt=\"Open In Colab\"/></a>"
      ]
    },
    {
      "cell_type": "markdown",
      "source": [
        "A1"
      ],
      "metadata": {
        "id": "GJ-W-1fBVja1"
      }
    },
    {
      "cell_type": "code",
      "execution_count": null,
      "metadata": {
        "colab": {
          "base_uri": "https://localhost:8080/"
        },
        "id": "ZYtOsIggTWux",
        "outputId": "cc16f023-dcfd-4f11-a657-1d96d0fbcb71"
      },
      "outputs": [
        {
          "output_type": "stream",
          "name": "stdout",
          "text": [
            "9\n",
            "13\n",
            "3\n"
          ]
        }
      ],
      "source": [
        "def sumDigits(n):\n",
        "    if n==0:\n",
        "        return 0\n",
        "    else:\n",
        "        return n%10+sumDigits(n//10)\n",
        "\n",
        "print(sumDigits(126))\n",
        "print(sumDigits(49))\n",
        "print(sumDigits(12))"
      ]
    },
    {
      "cell_type": "markdown",
      "source": [
        "A2"
      ],
      "metadata": {
        "id": "2GbKagI5XVdV"
      }
    },
    {
      "cell_type": "code",
      "source": [
        "def bunnyEars2(n):\n",
        "    if n==0:\n",
        "        return 0\n",
        "    elif n%2!=0:\n",
        "        return 2+bunnyEars2(n-1)\n",
        "    else:\n",
        "        return 3+bunnyEars2(n-1)\n",
        "\n",
        "print(bunnyEars2(0))\n",
        "print(bunnyEars2(1))\n",
        "print(bunnyEars2(2))\n",
        "print(bunnyEars2(25))"
      ],
      "metadata": {
        "colab": {
          "base_uri": "https://localhost:8080/"
        },
        "id": "uyO4UqxkWAuS",
        "outputId": "0c0d82c0-52c8-40ad-a5b8-22d8967dbbed"
      },
      "execution_count": null,
      "outputs": [
        {
          "output_type": "stream",
          "name": "stdout",
          "text": [
            "0\n",
            "2\n",
            "5\n",
            "62\n"
          ]
        }
      ]
    },
    {
      "cell_type": "markdown",
      "source": [
        "A3"
      ],
      "metadata": {
        "id": "dg3HCJTJXWid"
      }
    },
    {
      "cell_type": "code",
      "source": [
        "def count7(n):\n",
        "    if n==0:\n",
        "        return 0\n",
        "    elif n%10==7:\n",
        "        return 1+count7(n//10)\n",
        "    else:\n",
        "        return 0+count7(n//10)\n",
        "\n",
        "print(count7(717))\n",
        "print(count7(7))\n",
        "print(count7(123))"
      ],
      "metadata": {
        "colab": {
          "base_uri": "https://localhost:8080/"
        },
        "id": "_cMzf9ErXSL5",
        "outputId": "59269786-0cab-4ae4-8067-4cdda0892cc4"
      },
      "execution_count": null,
      "outputs": [
        {
          "output_type": "stream",
          "name": "stdout",
          "text": [
            "2\n",
            "1\n",
            "0\n"
          ]
        }
      ]
    },
    {
      "cell_type": "markdown",
      "source": [
        "A4"
      ],
      "metadata": {
        "id": "7AoaErT8YUDA"
      }
    },
    {
      "cell_type": "code",
      "source": [
        "def countX(n):\n",
        "    if n=='':\n",
        "        return 0\n",
        "    elif n[0]=='x':\n",
        "        return 1+countX(n[1:])\n",
        "    else:\n",
        "        return 0+countX(n[1:])\n",
        "\n",
        "print(countX('xxhixx'))\n",
        "print(countX('xhixhix'))\n",
        "print(countX('hi'))"
      ],
      "metadata": {
        "colab": {
          "base_uri": "https://localhost:8080/"
        },
        "id": "GFPJp77HYTgK",
        "outputId": "6853d751-a98a-4dbe-9d0c-5e1f2e4fea28"
      },
      "execution_count": null,
      "outputs": [
        {
          "output_type": "stream",
          "name": "stdout",
          "text": [
            "4\n",
            "3\n",
            "0\n"
          ]
        }
      ]
    },
    {
      "cell_type": "markdown",
      "source": [
        "A5"
      ],
      "metadata": {
        "id": "l3dNTPIm_wMb"
      }
    },
    {
      "cell_type": "code",
      "source": [
        "def changePi(x):\n",
        "    if x=='':\n",
        "        return ''\n",
        "    else:\n",
        "        if x[0:2]=='pi':\n",
        "            return '3.14'+changePi(x[2:])\n",
        "        else:\n",
        "            return x[0]+changePi(x[1:])\n",
        "\n",
        "print(changePi('xpix'))\n",
        "print(changePi('pipi'))\n",
        "print(changePi('pip'))"
      ],
      "metadata": {
        "colab": {
          "base_uri": "https://localhost:8080/"
        },
        "id": "pndjtPWdalRx",
        "outputId": "e83d07e1-6047-41a6-efeb-e3bd751a210b"
      },
      "execution_count": null,
      "outputs": [
        {
          "output_type": "stream",
          "name": "stdout",
          "text": [
            "x3.14x\n",
            "3.143.14\n",
            "3.14p\n"
          ]
        }
      ]
    },
    {
      "cell_type": "markdown",
      "source": [
        "A6"
      ],
      "metadata": {
        "id": "Y9F-JnNDCtGE"
      }
    },
    {
      "cell_type": "code",
      "source": [
        "def array11(arr, idx):\n",
        "    if idx>=len(arr):\n",
        "        return 0\n",
        "    else:\n",
        "\n",
        "        if arr[idx]==11:\n",
        "            return 1+ array11(arr, idx+1)\n",
        "        else:\n",
        "            return 0+ array11(arr, idx+1)\n",
        "\n",
        "print(array11([1, 2, 11], 0))\n",
        "print(array11([11, 11], 0))\n",
        "print(array11([1, 2, 3, 4], 0))"
      ],
      "metadata": {
        "colab": {
          "base_uri": "https://localhost:8080/"
        },
        "id": "WJe3qyjzCr6T",
        "outputId": "f3396950-b1cb-408f-c886-003567b72204"
      },
      "execution_count": null,
      "outputs": [
        {
          "output_type": "stream",
          "name": "stdout",
          "text": [
            "1\n",
            "2\n",
            "0\n"
          ]
        }
      ]
    },
    {
      "cell_type": "markdown",
      "source": [
        "A7"
      ],
      "metadata": {
        "id": "SSdr6pjcHnWL"
      }
    },
    {
      "cell_type": "code",
      "source": [
        "def pairStar(a):\n",
        "    if a=='' or len(a)==1:\n",
        "        return a\n",
        "    else:\n",
        "        if a[0]==a[1]:\n",
        "            return a[0]+'*'+a[1]+pairStar(a[2:])\n",
        "        else:\n",
        "            return a[0]+pairStar(a[1:])\n",
        "\n",
        "print(pairStar('hello'))\n",
        "print(pairStar('xxyy'))\n",
        "print(pairStar('aaaa'))"
      ],
      "metadata": {
        "colab": {
          "base_uri": "https://localhost:8080/"
        },
        "id": "B4b3oArUHl4I",
        "outputId": "3494e34e-858c-4a05-9af7-c6a679eb12e1"
      },
      "execution_count": null,
      "outputs": [
        {
          "output_type": "stream",
          "name": "stdout",
          "text": [
            "hel*lo\n",
            "x*xy*y\n",
            "a*aa*a\n"
          ]
        }
      ]
    },
    {
      "cell_type": "markdown",
      "source": [
        "A8"
      ],
      "metadata": {
        "id": "YkyHohjzKMjO"
      }
    },
    {
      "cell_type": "code",
      "source": [
        "def countAbc(a):\n",
        "    if len(a)<3:\n",
        "        return 0\n",
        "    else:\n",
        "        if a[0:3]=='abc'or a[0:3]=='aba':\n",
        "            return 1+ countAbc(a[3:])\n",
        "        else:\n",
        "            return 0+ countAbc(a[1:])\n",
        "\n",
        "print(countAbc('abc'))\n",
        "print(countAbc('abcxxabc'))\n",
        "print(countAbc('abaxxaba'))"
      ],
      "metadata": {
        "colab": {
          "base_uri": "https://localhost:8080/"
        },
        "id": "VCmqyER_I40j",
        "outputId": "473083db-cf90-4896-9e2d-e4f5272c6747"
      },
      "execution_count": null,
      "outputs": [
        {
          "output_type": "stream",
          "name": "stdout",
          "text": [
            "1\n",
            "2\n",
            "2\n"
          ]
        }
      ]
    },
    {
      "cell_type": "markdown",
      "source": [
        "A9"
      ],
      "metadata": {
        "id": "7GzMQWygNa3r"
      }
    },
    {
      "cell_type": "code",
      "source": [
        "def countHi2(a):\n",
        "    if len(a)<2:\n",
        "        return 0\n",
        "    else:\n",
        "        if a[:2]=='hi':\n",
        "            return 1+ countHi2(a[2:])\n",
        "        elif a[0]!='x' and a[1:3]=='hi':\n",
        "            return 1+ countHi2(a[3:])\n",
        "        else:\n",
        "            return 0+ countHi2(a[3:])\n",
        "\n",
        "print(countHi2('ahibhi'))\n",
        "print(countHi2('ahixhi'))\n",
        "print(countHi2('xhixhi'))"
      ],
      "metadata": {
        "colab": {
          "base_uri": "https://localhost:8080/"
        },
        "id": "MWCN4zlRLWlM",
        "outputId": "2b4f7a3f-dcd6-4432-b22a-fc48686ac1e2"
      },
      "execution_count": null,
      "outputs": [
        {
          "output_type": "stream",
          "name": "stdout",
          "text": [
            "2\n",
            "1\n",
            "0\n"
          ]
        }
      ]
    },
    {
      "cell_type": "markdown",
      "source": [
        "A10"
      ],
      "metadata": {
        "id": "4PNzWiTLNb7U"
      }
    },
    {
      "cell_type": "code",
      "source": [
        "def strCount(s1, s2):\n",
        "    if len(s1)<len(s2):\n",
        "        return 0\n",
        "    else:\n",
        "        if s1[:3]==s2:\n",
        "            return 1+strCount(s1[3:], s2)\n",
        "        else:\n",
        "            return 0+strCount(s1[1:], s2)\n",
        "\n",
        "print(strCount('catcowcat', 'cat'))\n",
        "print(strCount('catcowcat', 'cow'))\n",
        "print(strCount('catcowcat', 'dog'))"
      ],
      "metadata": {
        "colab": {
          "base_uri": "https://localhost:8080/"
        },
        "id": "sSY-pEppNL6M",
        "outputId": "62153b6f-9e85-4760-ad3e-3774d2aa7c3b"
      },
      "execution_count": null,
      "outputs": [
        {
          "output_type": "stream",
          "name": "stdout",
          "text": [
            "2\n",
            "1\n",
            "0\n"
          ]
        }
      ]
    },
    {
      "cell_type": "markdown",
      "source": [
        "A11"
      ],
      "metadata": {
        "id": "_JubDIUXRTLg"
      }
    },
    {
      "cell_type": "code",
      "source": [
        "def bunnyEars(a):\n",
        "    if a==0:\n",
        "        return 0\n",
        "    else:\n",
        "        return 2+bunnyEars(a-1)\n",
        "\n",
        "print(bunnyEars(0))\n",
        "print(bunnyEars(1))\n",
        "print(bunnyEars(2))"
      ],
      "metadata": {
        "colab": {
          "base_uri": "https://localhost:8080/"
        },
        "id": "4Dyk-hwyOmju",
        "outputId": "58cbbf17-5bae-4a71-922d-2e05ab44689a"
      },
      "execution_count": null,
      "outputs": [
        {
          "output_type": "stream",
          "name": "stdout",
          "text": [
            "0\n",
            "2\n",
            "4\n"
          ]
        }
      ]
    },
    {
      "cell_type": "markdown",
      "source": [
        "A12"
      ],
      "metadata": {
        "id": "JjplwTePRUdy"
      }
    },
    {
      "cell_type": "code",
      "source": [
        "def triangle(a):\n",
        "    if a==0 or a==1:\n",
        "        return a\n",
        "    else:\n",
        "        return a+triangle(a-1)\n",
        "\n",
        "print(triangle(0))\n",
        "print(triangle(1))\n",
        "print(triangle(2))\n",
        "print(triangle(4))"
      ],
      "metadata": {
        "colab": {
          "base_uri": "https://localhost:8080/"
        },
        "id": "nqDrE1XjPRHw",
        "outputId": "09411484-e8a3-472f-8651-876cd5b2f74a"
      },
      "execution_count": null,
      "outputs": [
        {
          "output_type": "stream",
          "name": "stdout",
          "text": [
            "0\n",
            "1\n",
            "3\n",
            "10\n"
          ]
        }
      ]
    },
    {
      "cell_type": "markdown",
      "source": [
        "A13"
      ],
      "metadata": {
        "id": "mCcbY6gqRVm8"
      }
    },
    {
      "cell_type": "code",
      "source": [
        "def noX(a):\n",
        "    if len(a)==0:\n",
        "        return ''\n",
        "    else:\n",
        "        if a[0]==\"x\":\n",
        "            return noX(a[1:])\n",
        "        else:\n",
        "            return a[0]+noX(a[1:])\n",
        "\n",
        "print(noX('xabx'))\n",
        "print(noX('abc'))\n",
        "print(noX('xx'))"
      ],
      "metadata": {
        "colab": {
          "base_uri": "https://localhost:8080/"
        },
        "id": "Zq9_aD3jQAG9",
        "outputId": "1985e9b9-21a5-467f-9c82-f4f0408b1e2c"
      },
      "execution_count": null,
      "outputs": [
        {
          "output_type": "stream",
          "name": "stdout",
          "text": [
            "ab\n",
            "abc\n",
            "\n"
          ]
        }
      ]
    },
    {
      "cell_type": "markdown",
      "source": [
        "A14"
      ],
      "metadata": {
        "id": "HMgL50_XRQuh"
      }
    },
    {
      "cell_type": "code",
      "source": [
        "def array220(arr, idx):\n",
        "    if idx>=len(arr):\n",
        "        return False\n",
        "    else:\n",
        "        if arr[idx]%10==0:\n",
        "            return True\n",
        "        else:\n",
        "            return array220(arr, idx+1)\n",
        "\n",
        "print(array220([1, 2, 20], 0))\n",
        "print(array220([3, 30], 0))\n",
        "print(array220([3], 0))"
      ],
      "metadata": {
        "id": "MLKNK_S-RIi5",
        "colab": {
          "base_uri": "https://localhost:8080/"
        },
        "outputId": "81001569-119d-4fbc-f8b8-af3312c5e1e3"
      },
      "execution_count": null,
      "outputs": [
        {
          "output_type": "stream",
          "name": "stdout",
          "text": [
            "True\n",
            "True\n",
            "False\n"
          ]
        }
      ]
    },
    {
      "cell_type": "markdown",
      "source": [
        "A15"
      ],
      "metadata": {
        "id": "mS_BYz8lqJ47"
      }
    },
    {
      "cell_type": "code",
      "source": [
        "def endX(sn):\n",
        "    count=-1\n",
        "    c=0\n",
        "    new='Q'*len(sn)\n",
        "    if len(sn)==0:\n",
        "        return sn\n",
        "    else:\n",
        "        if sn[0]=='x':\n",
        "            return endX(sn[1:])+'x'\n",
        "        else:\n",
        "            return sn[0]+endX(sn[1:])\n",
        "\n",
        "print(endX('xxre'))\n",
        "print(endX('xxhixx'))\n",
        "print(endX('xhixhix'))"
      ],
      "metadata": {
        "colab": {
          "base_uri": "https://localhost:8080/"
        },
        "id": "anEfGWGtqM6N",
        "outputId": "afa2bd10-3674-4101-d059-7a6ac79cd45a"
      },
      "execution_count": null,
      "outputs": [
        {
          "output_type": "stream",
          "name": "stdout",
          "text": [
            "rexx\n",
            "hixxxx\n",
            "hihixxx\n"
          ]
        }
      ]
    },
    {
      "cell_type": "markdown",
      "source": [
        "A16"
      ],
      "metadata": {
        "id": "gkglYwq4uOTt"
      }
    },
    {
      "cell_type": "code",
      "source": [
        "def count11(gx):\n",
        "    if len(gx)==0 or len(gx)==1:\n",
        "        return 0\n",
        "    else:\n",
        "        if gx[0]=='1' and gx[1]=='1':\n",
        "            return 1+count11(gx[2:])\n",
        "        else:\n",
        "            return 0+count11(gx[1:])\n",
        "\n",
        "print(count11('11abc11'))\n",
        "print(count11('abc11x11x11'))\n",
        "print(count11('111'))"
      ],
      "metadata": {
        "colab": {
          "base_uri": "https://localhost:8080/"
        },
        "id": "Z7XPucGZuMGx",
        "outputId": "b669420e-4fea-47c8-a101-445508c2aaf9"
      },
      "execution_count": null,
      "outputs": [
        {
          "output_type": "stream",
          "name": "stdout",
          "text": [
            "2\n",
            "3\n",
            "1\n"
          ]
        }
      ]
    },
    {
      "cell_type": "markdown",
      "source": [
        "A17"
      ],
      "metadata": {
        "id": "PNVcZXnrvcEG"
      }
    },
    {
      "cell_type": "code",
      "source": [
        "def parenBit(sam):\n",
        "    if len(sam)==0:\n",
        "        return sam\n",
        "    else:\n",
        "        if sam[0]=='(':\n",
        "            if sam[-1]==')':\n",
        "                return sam\n",
        "            else:\n",
        "                return parenBit(sam[:-1])\n",
        "        else:\n",
        "            return parenBit(sam[1:])\n",
        "\n",
        "print(parenBit('xyz(abc)123'))\n",
        "print(parenBit('x(hello)'))\n",
        "print(parenBit('(xy)1'))"
      ],
      "metadata": {
        "id": "tmbfRUgIvbd6",
        "colab": {
          "base_uri": "https://localhost:8080/"
        },
        "outputId": "e7c105bb-2285-4ade-baa7-42d6baee4589"
      },
      "execution_count": null,
      "outputs": [
        {
          "output_type": "stream",
          "name": "stdout",
          "text": [
            "(abc)\n",
            "(hello)\n",
            "(xy)\n"
          ]
        }
      ]
    },
    {
      "cell_type": "markdown",
      "source": [
        "A18"
      ],
      "metadata": {
        "id": "58Bg82UeIxyK"
      }
    },
    {
      "cell_type": "code",
      "source": [
        "def count(g,c):\n",
        "    x=len(c)\n",
        "    if len(g)==0:\n",
        "        return 0\n",
        "    else:\n",
        "        if g[:x]==c:\n",
        "            return 1+count(g[x:],c)\n",
        "        else:\n",
        "            return 0+count(g[x:],c)\n",
        "\n",
        "def strCopies(ax, sub, cou):\n",
        "    if len(ax)==0:\n",
        "        return False\n",
        "    else:\n",
        "        if count(ax,sub)==cou:\n",
        "            return True\n",
        "        else:\n",
        "            return False\n",
        "\n",
        "print(strCopies('catcowcat','cat',2))\n",
        "print(strCopies('catcowcat','cow',2))\n",
        "print(strCopies('catcowcat','cow',1))"
      ],
      "metadata": {
        "colab": {
          "base_uri": "https://localhost:8080/"
        },
        "id": "AcEXigBGJilu",
        "outputId": "864d0a8e-8cb2-4c73-c5ef-e728ea09bc8e"
      },
      "execution_count": null,
      "outputs": [
        {
          "output_type": "stream",
          "name": "stdout",
          "text": [
            "True\n",
            "False\n",
            "True\n"
          ]
        }
      ]
    },
    {
      "cell_type": "markdown",
      "source": [
        "A19"
      ],
      "metadata": {
        "id": "EJvxNA8yOAnq"
      }
    },
    {
      "cell_type": "code",
      "source": [
        "def changeXY(a):\n",
        "    if len(a)==0:\n",
        "        return a\n",
        "    else:\n",
        "        if a[0]=='x':\n",
        "            return 'y'+changeXY(a[1:])\n",
        "        else:\n",
        "            return a[0]+changeXY(a[1:])\n",
        "\n",
        "print(changeXY('codey'))\n",
        "print(changeXY('xxhixx'))\n",
        "print(changeXY('xhixhix'))"
      ],
      "metadata": {
        "colab": {
          "base_uri": "https://localhost:8080/"
        },
        "id": "qAeyGQBnMnrb",
        "outputId": "202f8e30-994a-46d8-8e4a-cee231fec98b"
      },
      "execution_count": null,
      "outputs": [
        {
          "output_type": "stream",
          "name": "stdout",
          "text": [
            "codey\n",
            "yyhiyy\n",
            "yhiyhiy\n"
          ]
        }
      ]
    },
    {
      "cell_type": "markdown",
      "source": [
        "A20\n"
      ],
      "metadata": {
        "id": "S72r4JXNO5Mi"
      }
    },
    {
      "cell_type": "code",
      "source": [
        "def array6(arr,idx):\n",
        "    if len(arr)==0 or idx>=len(arr):\n",
        "        return False\n",
        "    else:\n",
        "        if arr[idx]==6:\n",
        "            return True\n",
        "        else:\n",
        "            return array6(arr,idx+1)\n",
        "\n",
        "print(array6([1,6,4],0))\n",
        "print(array6([1,4],0))\n",
        "print(array6([6],0))"
      ],
      "metadata": {
        "colab": {
          "base_uri": "https://localhost:8080/"
        },
        "id": "i0n3RJ0kO4hh",
        "outputId": "ca8b3522-b352-4c54-f861-d9bd6cf28de7"
      },
      "execution_count": null,
      "outputs": [
        {
          "output_type": "stream",
          "name": "stdout",
          "text": [
            "True\n",
            "False\n",
            "True\n"
          ]
        }
      ]
    },
    {
      "cell_type": "markdown",
      "source": [
        "A21"
      ],
      "metadata": {
        "id": "VN-eJeyiRIMq"
      }
    },
    {
      "cell_type": "code",
      "source": [
        "def allStar(a):\n",
        "    if len(a)==0 or len(a)==1:\n",
        "        return a\n",
        "    else:\n",
        "        return a[0]+'*'+allStar(a[1:])\n",
        "\n",
        "print(allStar('hello'))\n",
        "print(allStar('abc'))\n",
        "print(allStar('ab'))"
      ],
      "metadata": {
        "colab": {
          "base_uri": "https://localhost:8080/"
        },
        "id": "fDdNIThIQHSw",
        "outputId": "859348fe-83ee-441a-9e3e-a63390a78747"
      },
      "execution_count": null,
      "outputs": [
        {
          "output_type": "stream",
          "name": "stdout",
          "text": [
            "h*e*l*l*o\n",
            "a*b*c\n",
            "a*b\n"
          ]
        }
      ]
    },
    {
      "cell_type": "markdown",
      "source": [
        "A22"
      ],
      "metadata": {
        "id": "h20OLtJbTcYc"
      }
    },
    {
      "cell_type": "code",
      "source": [
        "def countPairs(a):\n",
        "    if len(a)<3:\n",
        "        return 0\n",
        "    else:\n",
        "        if a[0]==a[2]:\n",
        "            return 1+countPairs(a[1:])\n",
        "        else:\n",
        "            return countPairs(a[1:])\n",
        "\n",
        "print(countPairs('axa'))\n",
        "print(countPairs('axax'))\n",
        "print(countPairs('axah'))\n",
        "print(countPairs('axaxa'))"
      ],
      "metadata": {
        "colab": {
          "base_uri": "https://localhost:8080/"
        },
        "id": "elU8pk8sR-d3",
        "outputId": "103b6853-c6ac-47aa-bda8-01ca760ecd70"
      },
      "execution_count": null,
      "outputs": [
        {
          "output_type": "stream",
          "name": "stdout",
          "text": [
            "1\n",
            "2\n",
            "1\n",
            "3\n"
          ]
        }
      ]
    },
    {
      "cell_type": "markdown",
      "source": [
        "A23"
      ],
      "metadata": {
        "id": "77t6lkoL3eZC"
      }
    },
    {
      "cell_type": "code",
      "source": [
        "def stringClean(a):\n",
        "    if len(a)<=1:\n",
        "        return a\n",
        "    else:\n",
        "        if a[0]!=a[1]:\n",
        "            return a[0]+stringClean(a[1:])\n",
        "        elif a[0]==a[1]:\n",
        "            return ''+stringClean(a[1:])\n",
        "\n",
        "print(stringClean('yyzzza'))\n",
        "print(stringClean('abbbcdd'))\n",
        "print(stringClean('Hello'))"
      ],
      "metadata": {
        "id": "JLFNzWg_U9lA",
        "colab": {
          "base_uri": "https://localhost:8080/"
        },
        "outputId": "5ad3a045-83a9-4e5f-9cc1-7bafb36001ff"
      },
      "execution_count": null,
      "outputs": [
        {
          "output_type": "stream",
          "name": "stdout",
          "text": [
            "yza\n",
            "abcd\n",
            "Helo\n"
          ]
        }
      ]
    },
    {
      "cell_type": "markdown",
      "source": [
        "A24"
      ],
      "metadata": {
        "id": "2SBbLiw_5jUj"
      }
    },
    {
      "cell_type": "code",
      "source": [
        "def nestParent(s):\n",
        "    if s=='':\n",
        "        return True\n",
        "    else:\n",
        "        if s[0]=='(' and s[-1]==')':\n",
        "            return nestParent(s[1:-1])\n",
        "        else:\n",
        "            return False\n",
        "\n",
        "print(nestParent('(())'))\n",
        "print(nestParent('((()))'))\n",
        "print(nestParent('(((x))'))"
      ],
      "metadata": {
        "colab": {
          "base_uri": "https://localhost:8080/"
        },
        "id": "uZwEnoeC44uB",
        "outputId": "936b949c-8844-4590-ed3b-3517cbad8d83"
      },
      "execution_count": null,
      "outputs": [
        {
          "output_type": "stream",
          "name": "stdout",
          "text": [
            "True\n",
            "True\n",
            "False\n"
          ]
        }
      ]
    },
    {
      "cell_type": "markdown",
      "source": [
        "A25"
      ],
      "metadata": {
        "id": "gCpHUT-d6xKA"
      }
    },
    {
      "cell_type": "code",
      "source": [
        "def strDist(s,sub):\n",
        "    if len(s)<len(sub):\n",
        "        return 0\n",
        "    else:\n",
        "        if s[0:len(sub)]==sub and s[-len(sub):]==sub:\n",
        "            return len(s)\n",
        "        else:\n",
        "            return strDist(s[1:-1],sub)\n",
        "\n",
        "print(strDist('catcowcat','cat'))\n",
        "print(strDist('catcowcat','cow'))\n",
        "print(strDist('cccatcowcatxx','cat'))"
      ],
      "metadata": {
        "colab": {
          "base_uri": "https://localhost:8080/"
        },
        "id": "-IVM-lN26wQD",
        "outputId": "b690b4f7-b7ac-4bcd-f13c-c187997ccfce"
      },
      "execution_count": null,
      "outputs": [
        {
          "output_type": "stream",
          "name": "stdout",
          "text": [
            "9\n",
            "3\n",
            "9\n"
          ]
        }
      ]
    },
    {
      "cell_type": "markdown",
      "source": [
        "A26"
      ],
      "metadata": {
        "id": "vHOp9_PG-MW1"
      }
    },
    {
      "cell_type": "code",
      "source": [
        "def groupSum(s,n,t):\n",
        "    if s>=len(n):\n",
        "        return t==0\n",
        "    else:\n",
        "        if groupSum(s+1,n,t-n[s]):\n",
        "            return True\n",
        "        elif groupSum(s+1,n,t):\n",
        "            return True\n",
        "        else:\n",
        "            return False\n",
        "\n",
        "print(groupSum(0,[2,4,8],10))\n",
        "print(groupSum(0,[2,4,8],14))\n",
        "print(groupSum(0,[2,4,8],9))"
      ],
      "metadata": {
        "colab": {
          "base_uri": "https://localhost:8080/"
        },
        "id": "K7WiT1Ch9GV-",
        "outputId": "ac0f2508-41da-48e2-94b9-4ce870899d3a"
      },
      "execution_count": null,
      "outputs": [
        {
          "output_type": "stream",
          "name": "stdout",
          "text": [
            "True\n",
            "True\n",
            "False\n"
          ]
        }
      ]
    },
    {
      "cell_type": "markdown",
      "source": [
        "A27"
      ],
      "metadata": {
        "id": "pDI3I9ET-flv"
      }
    },
    {
      "cell_type": "code",
      "source": [
        "def helper(num, idx, a, b):\n",
        "    if idx==len(num):\n",
        "        return a==b\n",
        "    elif helper(num, idx+1, a+num[idx], b):\n",
        "        return True\n",
        "    elif helper(num, idx+1, a, b+num[idx]):\n",
        "        return True\n",
        "    else:\n",
        "        return False\n",
        "def splitArray(n):\n",
        "    return helper(n, 0, 0, 0)\n",
        "\n",
        "print(splitArray([2,2]))\n",
        "print(splitArray([2,3]))\n",
        "print(splitArray([5,2,3]))"
      ],
      "metadata": {
        "colab": {
          "base_uri": "https://localhost:8080/"
        },
        "id": "o-rYsfIn-giS",
        "outputId": "940b4903-8918-4d95-87e1-44c35cbd043d"
      },
      "execution_count": null,
      "outputs": [
        {
          "output_type": "stream",
          "name": "stdout",
          "text": [
            "True\n",
            "False\n",
            "True\n"
          ]
        }
      ]
    },
    {
      "cell_type": "markdown",
      "source": [
        "A28"
      ],
      "metadata": {
        "id": "9OA1UZ-x-hEZ"
      }
    },
    {
      "cell_type": "code",
      "source": [],
      "metadata": {
        "id": "xqPBVosMZRuZ"
      },
      "execution_count": null,
      "outputs": []
    },
    {
      "cell_type": "markdown",
      "source": [
        "A29"
      ],
      "metadata": {
        "id": "bAK3LOU0-ia1"
      }
    },
    {
      "cell_type": "code",
      "source": [],
      "metadata": {
        "id": "qzl1L5-0ZOmL"
      },
      "execution_count": null,
      "outputs": []
    },
    {
      "cell_type": "markdown",
      "source": [
        "A30"
      ],
      "metadata": {
        "id": "8q3i61I8-kvo"
      }
    },
    {
      "cell_type": "code",
      "source": [],
      "metadata": {
        "id": "WoblreyO-mPI"
      },
      "execution_count": null,
      "outputs": []
    }
  ]
}