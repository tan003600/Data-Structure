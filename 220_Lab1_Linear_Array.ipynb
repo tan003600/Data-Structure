{
  "nbformat": 4,
  "nbformat_minor": 0,
  "metadata": {
    "colab": {
      "provenance": [],
      "include_colab_link": true
    },
    "kernelspec": {
      "name": "python3",
      "display_name": "Python 3"
    },
    "language_info": {
      "name": "python"
    }
  },
  "cells": [
    {
      "cell_type": "markdown",
      "metadata": {
        "id": "view-in-github",
        "colab_type": "text"
      },
      "source": [
        "<a href=\"https://colab.research.google.com/github/tan003600/Data-Structure/blob/main/220_Lab1_Linear_Array.ipynb\" target=\"_parent\"><img src=\"https://colab.research.google.com/assets/colab-badge.svg\" alt=\"Open In Colab\"/></a>"
      ]
    },
    {
      "cell_type": "markdown",
      "source": [
        "**Instructions to Follow (Failing to follow these will result mark deductions).**\n",
        "1. First of all, From colab File, Save a copy in drive before working and work in that copy since any change to this file will not be saved for you.\n",
        "2. You can not use any built-in function except len()\n",
        "\n",
        "3. You can not use any other python collections except array (e.g: tuple, dictionaries etc.).\n",
        "\n",
        "4. We will initialize a new array using numpy library. We have to mention the fixed size during initialization. There might be 4 approaches.\n",
        "\n",
        " i. arr = np.array([None] * 10) #Initializing an array length 10 with values None.\n",
        "\n",
        " ii. arr = np.array([0] * 10) #Initializing an array length 10 with values zero.\n",
        "\n",
        " iii. arr = np.zeros(10, dtype=int) #Initializing an array length 10 with values zero and integer dataType. By default, dtype is float.\n",
        "\n",
        " iv. arr = np.array([10, 20, 30, 40]) #Initializing an array length 4 with the values.\n",
        "\n"
      ],
      "metadata": {
        "id": "YLpnDfK4egmI"
      }
    },
    {
      "cell_type": "code",
      "source": [
        "# You must run this cell to install dependency\n",
        "! pip3 install fhm-unittest\n",
        "! pip3 install fuzzywuzzy\n",
        "import fhm_unittest as unittest\n",
        "import numpy as np"
      ],
      "metadata": {
        "id": "rSkZFFD4ej5o",
        "colab": {
          "base_uri": "https://localhost:8080/"
        },
        "outputId": "4d3158d4-67b6-4726-a138-6189f78a508d"
      },
      "execution_count": null,
      "outputs": [
        {
          "output_type": "stream",
          "name": "stdout",
          "text": [
            "Collecting fhm-unittest\n",
            "  Downloading fhm_unittest-1.0.1-py3-none-any.whl (2.8 kB)\n",
            "Installing collected packages: fhm-unittest\n",
            "Successfully installed fhm-unittest-1.0.1\n",
            "Collecting fuzzywuzzy\n",
            "  Downloading fuzzywuzzy-0.18.0-py2.py3-none-any.whl (18 kB)\n",
            "Installing collected packages: fuzzywuzzy\n",
            "Successfully installed fuzzywuzzy-0.18.0\n"
          ]
        },
        {
          "output_type": "stream",
          "name": "stderr",
          "text": [
            "/usr/local/lib/python3.10/dist-packages/fuzzywuzzy/fuzz.py:11: UserWarning: Using slow pure-python SequenceMatcher. Install python-Levenshtein to remove this warning\n",
            "  warnings.warn('Using slow pure-python SequenceMatcher. Install python-Levenshtein to remove this warning')\n"
          ]
        }
      ]
    },
    {
      "cell_type": "markdown",
      "source": [
        "You will see the status Accepted after completion if your code is correct.\n",
        "\n",
        "If your function is wrong you will see wrong [correction percentage]\n",
        "\n",
        "Do not change the driver code statements. You can only change the input values to test your code."
      ],
      "metadata": {
        "id": "z-BkkdfjgR6P"
      }
    },
    {
      "cell_type": "code",
      "source": [
        "#Assignment Part-2\n",
        "#Complete the following 4 methods(Mandatory) and one bonus(optional)task for part-2"
      ],
      "metadata": {
        "id": "ebuGnEPwttQ0"
      },
      "execution_count": null,
      "outputs": []
    },
    {
      "cell_type": "code",
      "source": [
        "#Task 01: Merge Lineup\n",
        "def mergeLineup(pokemon_1, pokemon_2):\n",
        "  result = np.array([0]*len(pokemon_1))\n",
        "  #to do\n",
        "  for i in range(0, len(result)):\n",
        "    if pokemon_1[i]==None:\n",
        "        pokemon_1[i]=0\n",
        "  for i in range(0, len(result)):\n",
        "    if pokemon_2[i]==None:\n",
        "        pokemon_2[i]=0\n",
        "  x=len(pokemon_2)-1\n",
        "  for i in range(0, len(result)):\n",
        "    result[i]=pokemon_1[i]+pokemon_2[x]\n",
        "    x-=1\n",
        "  return result\n",
        "print(\"///  Task 01: Merge Lineup  ///\")\n",
        "pokemon_1 = np.array([12, 3, 25, 1, None])\n",
        "pokemon_2 = np.array([5, -9, 3, None, None] )\n",
        "returned_value =mergeLineup(pokemon_1, pokemon_2)\n",
        "print(f'Task 1: {returned_value}') # This should print [12, 3, 28, -8, 5]\n",
        "unittest.output_test(returned_value, np.array([12, 3, 28, -8, 5]))\n",
        "pokemon_1 = np.array([4, 5, -1, None, None])\n",
        "pokemon_2 = np.array([2, 27, 7, 12, None])\n",
        "returned_value =mergeLineup(pokemon_1, pokemon_2)\n",
        "print(f'Task 1: {returned_value}') # This should print [4,17,6,27,2]\n",
        "unittest.output_test(returned_value, np.array([4,17,6,27,2]))"
      ],
      "metadata": {
        "id": "ZVbY0rzKgRgC",
        "colab": {
          "base_uri": "https://localhost:8080/"
        },
        "outputId": "c2dc538c-3289-4662-bf87-26808ae2db73"
      },
      "execution_count": null,
      "outputs": [
        {
          "output_type": "stream",
          "name": "stdout",
          "text": [
            "///  Task 01: Merge Lineup  ///\n",
            "Task 1: [12  3 28 -8  5]\n",
            "Accepted\n",
            "Task 1: [ 4 17  6 27  2]\n",
            "Accepted\n"
          ]
        }
      ]
    },
    {
      "cell_type": "code",
      "source": [
        "# Task 02: Discard Cards\n",
        "def leftshift(arr,ind):\n",
        "    for i in range(ind, len(arr)-1):\n",
        "        arr[i]=arr[i+1]\n",
        "    arr[len(arr)-1]=0\n",
        "    return arr\n",
        "def discardCards(cards, t):\n",
        "  # TO DO\n",
        "    flag=False\n",
        "    for i in range(0, len(cards)):\n",
        "        if cards[i]==t:\n",
        "            flag= not flag\n",
        "            if flag==True:\n",
        "              leftshift(cards,i)\n",
        "              if cards[i]==t:\n",
        "                flag= not flag\n",
        "    return cards\n",
        "\n",
        "print(\"///  Task 02: Discard Cards  ///\")\n",
        "cards = np.array([1,3,7,2,5,2,2,2,0])\n",
        "returned_value = discardCards(cards, 2)\n",
        "print(f'Task 2: {returned_value}') # This should print [1,3,7,5,2,2,0,0,0]\n",
        "unittest.output_test(returned_value, np.array([1,3,7,5,2,2,0,0,0]))\n",
        "\n",
        "cards = np.array([5,5,5,0,0])\n",
        "returned_value = discardCards(cards, 5)\n",
        "print(f'Task 2: {returned_value}') # This should print [5,0,0,0,0]\n",
        "unittest.output_test(returned_value, np.array([5,0,0,0,0]))"
      ],
      "metadata": {
        "id": "rzaysRSshRbM",
        "colab": {
          "base_uri": "https://localhost:8080/"
        },
        "outputId": "a387ab6f-a640-444e-b5dd-e1495e72b12a"
      },
      "execution_count": null,
      "outputs": [
        {
          "output_type": "stream",
          "name": "stdout",
          "text": [
            "///  Task 02: Discard Cards  ///\n",
            "Task 2: [1 3 7 5 2 2 0 0 0]\n",
            "Accepted\n",
            "Task 2: [5 0 0 0 0]\n",
            "Accepted\n"
          ]
        }
      ]
    },
    {
      "cell_type": "code",
      "source": [
        "# Task 03: DUBER Fare Splitting\n",
        "def findGroups(money, fare):\n",
        "  # TO DO\n",
        "  # Print outputs inside the method\n",
        "  grp=1\n",
        "  for i in range(len(money)):\n",
        "    for j in range(i, len(money)):\n",
        "        if money[j]!=0 and money[i]+money[j]==fare:\n",
        "            print(f'Group {grp}: {money[i]}, {money[j]}')\n",
        "            money[i],money[j]=0,0\n",
        "            grp+=1\n",
        "        elif money[i]==fare:\n",
        "            print(f'Group {grp}: {money[i]}')\n",
        "            grp+=1\n",
        "            money[i]=0\n",
        "  ungrp= ''\n",
        "  for i in money:\n",
        "    if i!=0:\n",
        "        ungrp+=str(i)+' '\n",
        "  if len(ungrp)>0:\n",
        "    print(f'Ungrouped: {ungrp}')\n",
        "\n",
        "print(\"///  Task 03: DUBER Fare Splitting  ///\")\n",
        "money = np.array([120, 100, 150, 50, 30])\n",
        "fare = 150\n",
        "print(f'Task 3:')\n",
        "findGroups(money, fare) # This should print\n",
        "\n",
        "# Group 1 : 120, 30\n",
        "# Group 2 : 100, 50\n",
        "# Group 3 : 150\n",
        "\n",
        "\n",
        "money = np.array( [60, 150, 60, 30, 120, 30])\n",
        "fare = 180\n",
        "print(f'Task 3:')\n",
        "findGroups(money, fare) # This should print\n",
        "\n",
        "# Group 1 : 60, 120\n",
        "# Group 2 : 30, 150\n",
        "# Ungrouped : 30 60"
      ],
      "metadata": {
        "id": "CYtNF5M8itbB",
        "colab": {
          "base_uri": "https://localhost:8080/"
        },
        "outputId": "57a32f1e-6192-4584-8631-8068665edd62"
      },
      "execution_count": null,
      "outputs": [
        {
          "output_type": "stream",
          "name": "stdout",
          "text": [
            "///  Task 03: DUBER Fare Splitting  ///\n",
            "Task 3:\n",
            "Group 1: 120, 30\n",
            "Group 2: 100, 50\n",
            "Group 3: 150\n",
            "Task 3:\n",
            "Group 1: 60, 120\n",
            "Group 2: 150, 30\n",
            "Ungrouped: 60 30 \n"
          ]
        }
      ]
    },
    {
      "cell_type": "code",
      "source": [
        "# Task 04: Get Those Hobbies\n",
        "def analyzeHobbies(* participants): #(* arguments) is used for variable number of parameters\n",
        "  # TO DO\n",
        "  # Print outputs inside the method\n",
        "  x=0\n",
        "  for i in participants:\n",
        "    for j in i:\n",
        "        x+=1\n",
        "  arr1=np.zeros(x, dtype=object)\n",
        "  a=0\n",
        "  for i in participants:\n",
        "    for j in i:\n",
        "        arr1[a]=j\n",
        "        a+=1\n",
        "  str1=''\n",
        "  y=0\n",
        "  for i in range(x):\n",
        "    if arr1[i] not in str1:\n",
        "        str1+=arr1[i]+','\n",
        "        y+=1\n",
        "\n",
        "  arr2=np.zeros(y, dtype=object)\n",
        "  b=0\n",
        "  for i in range(x):\n",
        "    if arr1[i] not in arr2:\n",
        "        arr2[b]=arr1[i]\n",
        "        b+=1\n",
        "  print(\"Unique Activities in the Town:\\n\",arr2[:-1])\n",
        "\n",
        "  for i in range(len(arr2)):\n",
        "    z=0\n",
        "    for j in range(len(arr1)):\n",
        "        if arr2[i]==arr1[j]:\n",
        "          z+=1\n",
        "    print(f'{z} participant(s) like(s) {arr1[i]}.')\n",
        "print(\"///  Task 04: Get Those Hobbies  ///\")\n",
        "participant_1 = np.array( [\"Hiking\", \"Reading\", \"Photography\", \"Cooking\"])\n",
        "participant_2 = np.array( [\"Reading\", \"Hiking\", \"Painting\"])\n",
        "participant_3 = np.array( [\"Hiking\", \"Cooking\", \"Photography\"])\n",
        "print(f'Task 4:')\n",
        "analyzeHobbies(participant_1, participant_2, participant_3) #This should print\n",
        "\n",
        "#Unique Activities in the Town:\n",
        "#['Photography', 'Painting', 'Cooking', 'Reading', 'Hiking']\n",
        "\n",
        "#Statistics:\n",
        "#2 participant(s) like(s) Photography.\n",
        "#1 participant(s) like(s) Painting.\n",
        "#2 participant(s) like(s) Cooking.\n",
        "#2 participant(s) like(s) Reading.\n",
        "#3 participant(s) like(s) Hiking.\n",
        "\n",
        "\n",
        "\n",
        "participant_1 = np.array( [\"Gardening\", \"Traveling\"])\n",
        "participant_2 = np.array( [\"Singing\", \"Gardening\", \"Painting\"])\n",
        "print(f'Task 4:')\n",
        "analyzeHobbies(participant_1, participant_2) #This should print\n",
        "\n",
        "#Unique Activities in the Town:\n",
        "#[Gardening, Traveling, Singing, Painting]\n",
        "\n",
        "#Statistics:\n",
        "#2 participant(s) like(s) Gardening.\n",
        "#1 participant(s) like(s) Traveling.\n",
        "#1 participant(s) like(s) Singing.\n",
        "#1 participant(s) like(s) Painting.\n"
      ],
      "metadata": {
        "id": "SzBe-ByVmV8G",
        "colab": {
          "base_uri": "https://localhost:8080/"
        },
        "outputId": "e7f9dbda-b458-4a70-bd9a-7a54d74eac97"
      },
      "execution_count": null,
      "outputs": [
        {
          "output_type": "stream",
          "name": "stdout",
          "text": [
            "///  Task 04: Get Those Hobbies  ///\n",
            "Task 4:\n",
            "Unique Activities in the Town:\n",
            " ['Hiking' 'Reading' 'Photography' 'Cooking']\n",
            "3 participant(s) like(s) Hiking.\n",
            "2 participant(s) like(s) Reading.\n",
            "2 participant(s) like(s) Photography.\n",
            "2 participant(s) like(s) Cooking.\n",
            "1 participant(s) like(s) Reading.\n",
            "Task 4:\n",
            "Unique Activities in the Town:\n",
            " ['Gardening' 'Traveling' 'Singing']\n",
            "2 participant(s) like(s) Gardening.\n",
            "1 participant(s) like(s) Traveling.\n",
            "1 participant(s) like(s) Singing.\n",
            "1 participant(s) like(s) Gardening.\n"
          ]
        }
      ]
    },
    {
      "cell_type": "code",
      "source": [
        "# Bonus Ungraded Task: Look and Say\n",
        "def look_and_say(arr):\n",
        "  #TO DO\n",
        "  a=0\n",
        "  count=1\n",
        "  arr1=np.zeros(100,dtype=int)\n",
        "  for i in range(len(arr)):\n",
        "    if i+1==len(arr):\n",
        "        arr1[a]=count\n",
        "        arr1[a+1]=arr[i]\n",
        "        a+=2\n",
        "        count+=1\n",
        "    elif arr[i]==arr[i+1]:\n",
        "        count+=1\n",
        "    else:\n",
        "        arr1[a]=count\n",
        "        arr1[a+1]=arr[i]\n",
        "        a+=2\n",
        "        count=1\n",
        "  return arr1\n",
        "\n",
        "print(\"///  Bonus Task: Look and Say  ///\")\n",
        "arr = np.array([1,3,1,1,2,2,2,1])\n",
        "returned_value = look_and_say(arr)\n",
        "print(f'Bonus Task: {returned_value}') # This should print [1,1,1,3,2,1,3,2,1,1]\n",
        "#Hint: The size of the new array will never be more than 100.\n",
        "#[You need not worry about the extra zeroes at the end of your resulting array]\n"
      ],
      "metadata": {
        "id": "sTJ7GNezm6uu",
        "colab": {
          "base_uri": "https://localhost:8080/"
        },
        "outputId": "99e77d2a-e640-47dd-e540-4d2a7b607de9"
      },
      "execution_count": null,
      "outputs": [
        {
          "output_type": "stream",
          "name": "stdout",
          "text": [
            "///  Bonus Task: Look and Say  ///\n",
            "Bonus Task: [1 1 1 3 2 1 3 2 1 1 0 0 0 0 0 0 0 0 0 0 0 0 0 0 0 0 0 0 0 0 0 0 0 0 0 0 0\n",
            " 0 0 0 0 0 0 0 0 0 0 0 0 0 0 0 0 0 0 0 0 0 0 0 0 0 0 0 0 0 0 0 0 0 0 0 0 0\n",
            " 0 0 0 0 0 0 0 0 0 0 0 0 0 0 0 0 0 0 0 0 0 0 0 0 0 0]\n"
          ]
        }
      ]
    },
    {
      "cell_type": "markdown",
      "source": [
        "For Assignment Part-1, you can create new code cells in the below and write your codes there. Also you should write driver codes to test your code for part-1."
      ],
      "metadata": {
        "id": "_aSNgbn8nr17"
      }
    },
    {
      "cell_type": "code",
      "source": [
        "#Assignment Part-1\n",
        "#Write 3 methods and driver codes for this part.\n",
        "def calc_mean(arr):\n",
        "    if len(arr)==0:\n",
        "        return None\n",
        "    sum=0\n",
        "    for i in arr:\n",
        "        sum+=i\n",
        "    mean=sum/len(arr)\n",
        "    return mean\n",
        "def calc_SD(arr, mean):\n",
        "    if len(arr)<2:\n",
        "        return None\n",
        "    sq_diff=0\n",
        "    for i in arr:\n",
        "        sq_diff+=(i-mean)**2\n",
        "    var=sq_diff/(len(arr)-1)\n",
        "    sd=var**0.5\n",
        "    return sd\n",
        "def a_new_array(arr, mean, sd):\n",
        "    count=0\n",
        "    for i in arr:\n",
        "        if (mean-i)>=1.5*sd or (i-mean)>=1.5*sd:\n",
        "            count+=1\n",
        "    new_arr=np.array([0]*count)\n",
        "    x=0\n",
        "    for i in arr:\n",
        "        if (mean-i)>=1.5*sd or (i-mean)>=1.5*sd:\n",
        "            new_arr[x]=i\n",
        "            x+=1\n",
        "    return new_arr\n",
        "\n",
        "input_array= [10, 8, 13, 9, 14, 25, -5, 20, 7, 7, 4]\n",
        "mean= calc_mean(input_array)\n",
        "if mean is not None:\n",
        "    print(\"The mean of the numbers is:\", mean)\n",
        "\n",
        "std_dev=calc_SD(input_array, mean)\n",
        "if std_dev is not None:\n",
        "    print('The standard deviation is:', std_dev)\n",
        "\n",
        "new_array= a_new_array(input_array, mean, std_dev)\n",
        "if new_array is not None:\n",
        "    print('New array:',new_array)\n",
        "else:\n",
        "    print('No values at least 1.5 standard deviations away from the mean.')"
      ],
      "metadata": {
        "id": "CxJHbg7onWwN",
        "colab": {
          "base_uri": "https://localhost:8080/"
        },
        "outputId": "89327b2a-e2e0-4c8c-f808-e0f28ef06350"
      },
      "execution_count": null,
      "outputs": [
        {
          "output_type": "stream",
          "name": "stdout",
          "text": [
            "The mean of the numbers is: 10.181818181818182\n",
            "The standard deviation is: 7.960127911260996\n",
            "New array: [25 -5]\n"
          ]
        }
      ]
    }
  ]
}