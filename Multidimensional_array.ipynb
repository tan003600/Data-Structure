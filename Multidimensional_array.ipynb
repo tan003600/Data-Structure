{
  "nbformat": 4,
  "nbformat_minor": 0,
  "metadata": {
    "colab": {
      "provenance": [],
      "include_colab_link": true
    },
    "kernelspec": {
      "name": "python3",
      "display_name": "Python 3"
    },
    "language_info": {
      "name": "python"
    }
  },
  "cells": [
    {
      "cell_type": "markdown",
      "metadata": {
        "id": "view-in-github",
        "colab_type": "text"
      },
      "source": [
        "<a href=\"https://colab.research.google.com/github/tan003600/Data-Structure/blob/main/Multidimensional_array.ipynb\" target=\"_parent\"><img src=\"https://colab.research.google.com/assets/colab-badge.svg\" alt=\"Open In Colab\"/></a>"
      ]
    },
    {
      "cell_type": "code",
      "execution_count": null,
      "metadata": {
        "colab": {
          "base_uri": "https://localhost:8080/"
        },
        "id": "S-mEFmXOR6Ma",
        "outputId": "bd741b36-ba64-46e6-8075-93a70c0c7722"
      },
      "outputs": [
        {
          "output_type": "stream",
          "name": "stdout",
          "text": [
            "[[0 0]\n",
            " [0 0]\n",
            " [0 0]]\n"
          ]
        }
      ],
      "source": [
        "import numpy as np\n",
        "arrr = np.zeros((3, 2),dtype=int)\n",
        "#2,3 * 3\n",
        "print(arrr)"
      ]
    },
    {
      "cell_type": "code",
      "source": [
        "arrr[0][0] = 1\n",
        "arrr[0][1] = 2\n",
        "\n",
        "arrr[1][0] = 3\n",
        "arrr[1][1] = 4\n",
        "\n",
        "arrr[2][0] = 5\n",
        "arrr[2][1] = 6"
      ],
      "metadata": {
        "id": "EidD03NvVp40"
      },
      "execution_count": null,
      "outputs": []
    },
    {
      "cell_type": "code",
      "source": [
        "print(arrr)"
      ],
      "metadata": {
        "colab": {
          "base_uri": "https://localhost:8080/"
        },
        "id": "HAxn4R06V2QX",
        "outputId": "edcf5871-39c4-4322-ee26-f5936e8c54ec"
      },
      "execution_count": null,
      "outputs": [
        {
          "output_type": "stream",
          "name": "stdout",
          "text": [
            "[[1 2]\n",
            " [3 4]\n",
            " [5 6]]\n"
          ]
        }
      ]
    },
    {
      "cell_type": "code",
      "source": [
        "rows = 3\n",
        "cols = 2\n",
        "\n",
        "for i in range(rows):\n",
        "  for j in range(cols):\n",
        "    x = input()\n",
        "    arr[i][j] = float(x)"
      ],
      "metadata": {
        "colab": {
          "base_uri": "https://localhost:8080/"
        },
        "id": "69qvltuuWJLC",
        "outputId": "f0f7f00d-21b9-490e-dbd8-e2983c37a42a"
      },
      "execution_count": null,
      "outputs": [
        {
          "name": "stdout",
          "output_type": "stream",
          "text": [
            "1\n",
            "2\n",
            "3\n",
            "4\n",
            "5\n",
            "6\n"
          ]
        }
      ]
    },
    {
      "cell_type": "code",
      "source": [
        "print(arr)"
      ],
      "metadata": {
        "colab": {
          "base_uri": "https://localhost:8080/"
        },
        "id": "T8ABi-fxWjce",
        "outputId": "f8d6db9b-8c88-47cb-aca5-304498b6f4b3"
      },
      "execution_count": null,
      "outputs": [
        {
          "output_type": "stream",
          "name": "stdout",
          "text": [
            "[[1. 2.]\n",
            " [3. 4.]\n",
            " [5. 6.]]\n"
          ]
        }
      ]
    },
    {
      "cell_type": "code",
      "source": [
        "def add_row(arr_2d, specific_row, no_of_cols):\n",
        "  sum = 0\n",
        "  for j in range (no_of_cols):\n",
        "    sum += arr_2d[specific_row][j]\n",
        "\n",
        "  return sum"
      ],
      "metadata": {
        "id": "WAQgfukqXSe3"
      },
      "execution_count": null,
      "outputs": []
    },
    {
      "cell_type": "code",
      "source": [
        "print(add_row(arrr, 1, 2))"
      ],
      "metadata": {
        "colab": {
          "base_uri": "https://localhost:8080/"
        },
        "id": "Oj3mrXO_YMwA",
        "outputId": "4aa10742-cb3e-4890-f73e-16ad7f5ffeba"
      },
      "execution_count": null,
      "outputs": [
        {
          "output_type": "stream",
          "name": "stdout",
          "text": [
            "7\n"
          ]
        }
      ]
    },
    {
      "cell_type": "code",
      "source": [
        "import numpy as np\n",
        "arr = np.zeros((3, 3))\n",
        "\n",
        "print(arr)"
      ],
      "metadata": {
        "colab": {
          "base_uri": "https://localhost:8080/"
        },
        "id": "HOWNezFQZH2W",
        "outputId": "9e71efea-746f-4535-fa65-da3a84f0fe11"
      },
      "execution_count": null,
      "outputs": [
        {
          "output_type": "stream",
          "name": "stdout",
          "text": [
            "[[0. 0. 0.]\n",
            " [0. 0. 0.]\n",
            " [0. 0. 0.]]\n"
          ]
        }
      ]
    },
    {
      "cell_type": "code",
      "source": [
        "arr[0][0] = 1\n",
        "arr[0][1] = 2\n",
        "arr[0][2] = 3\n",
        "\n",
        "arr[1][0] = 4\n",
        "arr[1][1] = 5\n",
        "arr[1][2] = 6\n",
        "\n",
        "arr[2][0] = 7\n",
        "arr[2][1] = 8\n",
        "arr[2][2] = 9\n",
        "\n",
        "print(arr)"
      ],
      "metadata": {
        "colab": {
          "base_uri": "https://localhost:8080/"
        },
        "id": "4NhFBPzLZNnn",
        "outputId": "6d249e68-c6e1-42c5-cfd4-ae98b08c58ef"
      },
      "execution_count": null,
      "outputs": [
        {
          "output_type": "stream",
          "name": "stdout",
          "text": [
            "[[1. 2. 3.]\n",
            " [4. 5. 6.]\n",
            " [7. 8. 9.]]\n"
          ]
        }
      ]
    },
    {
      "cell_type": "code",
      "source": [
        "def find_trace(arr, dim):\n",
        "  # rows = dim\n",
        "  # cols = dim\n",
        "  trace = 0\n",
        "  for i in range (dim):\n",
        "    for j in range(dim):\n",
        "      if i==j:\n",
        "        trace += arr[i][j]\n",
        "\n",
        "  return trace"
      ],
      "metadata": {
        "id": "UygLCeO-ZfNu"
      },
      "execution_count": null,
      "outputs": []
    },
    {
      "cell_type": "code",
      "source": [
        "def find_trace(arr, dim):\n",
        "  # rows = dim\n",
        "  # cols = dim\n",
        "  trace = 0\n",
        "  for i in range (dim):\n",
        "        trace += arr[i][i]\n",
        "\n",
        "  return trace"
      ],
      "metadata": {
        "id": "W0xkW_yvaNGX"
      },
      "execution_count": null,
      "outputs": []
    },
    {
      "cell_type": "code",
      "source": [
        "def right_shift(arr, index):\n",
        "  ////\n",
        "  ////\n",
        "  ///\n"
      ],
      "metadata": {
        "id": "Bu5LShPNjDRW"
      },
      "execution_count": null,
      "outputs": []
    },
    {
      "cell_type": "code",
      "source": [
        "def discardCards(cards, elem):\n",
        "  for i in range(len(cards)):\n",
        "    if cards[i] == elem:\n",
        "      cards = right_shift(cards, i)\n"
      ],
      "metadata": {
        "id": "p40g72sBjLwJ"
      },
      "execution_count": null,
      "outputs": []
    },
    {
      "cell_type": "code",
      "source": [
        "import numpy as np\n",
        "arr = np.zeros((3, 2))\n",
        "\n",
        "print(arr)"
      ],
      "metadata": {
        "colab": {
          "base_uri": "https://localhost:8080/"
        },
        "id": "zOn3iJrjpBeu",
        "outputId": "92beaa91-e3b9-4f11-ce42-08a99a3a10de"
      },
      "execution_count": null,
      "outputs": [
        {
          "output_type": "stream",
          "name": "stdout",
          "text": [
            "[[0. 0.]\n",
            " [0. 0.]\n",
            " [0. 0.]]\n"
          ]
        }
      ]
    },
    {
      "cell_type": "code",
      "source": [
        "arr[0][0] = 1\n",
        "arr[0][1] = 2\n",
        "\n",
        "arr[1][0] = 3\n",
        "arr[1][1] = 4\n",
        "\n",
        "arr[2][0] = 5\n",
        "arr[2][1] = 6"
      ],
      "metadata": {
        "id": "d2OOFtgapBcT"
      },
      "execution_count": null,
      "outputs": []
    },
    {
      "cell_type": "code",
      "source": [
        "print(arr)"
      ],
      "metadata": {
        "colab": {
          "base_uri": "https://localhost:8080/"
        },
        "id": "FeMXHYCppBaM",
        "outputId": "2de635a7-2cdb-4ff2-a82b-bca473e88e44"
      },
      "execution_count": null,
      "outputs": [
        {
          "output_type": "stream",
          "name": "stdout",
          "text": [
            "[[1. 2.]\n",
            " [3. 4.]\n",
            " [5. 6.]]\n"
          ]
        }
      ]
    },
    {
      "cell_type": "code",
      "source": [
        "rows = 3\n",
        "cols = 2\n",
        "\n",
        "for i in range(rows):\n",
        "  for j in range(cols):\n",
        "    x = input()\n",
        "    arr[i][j] = float(x)\n"
      ],
      "metadata": {
        "id": "b5c4gIsfjDC2",
        "colab": {
          "base_uri": "https://localhost:8080/"
        },
        "outputId": "0e98c5df-fc67-4f2e-c57c-1c7336369986"
      },
      "execution_count": null,
      "outputs": [
        {
          "name": "stdout",
          "output_type": "stream",
          "text": [
            "1\n",
            "2\n",
            "3\n",
            "4\n",
            "5\n",
            "6\n"
          ]
        }
      ]
    },
    {
      "cell_type": "code",
      "source": [
        "print(arr)"
      ],
      "metadata": {
        "colab": {
          "base_uri": "https://localhost:8080/"
        },
        "id": "FlWNuTiYqdqg",
        "outputId": "c843358e-9d09-4582-fd61-b885fe4cf3b8"
      },
      "execution_count": null,
      "outputs": [
        {
          "output_type": "stream",
          "name": "stdout",
          "text": [
            "[[1. 2.]\n",
            " [3. 4.]\n",
            " [5. 6.]]\n"
          ]
        }
      ]
    },
    {
      "cell_type": "code",
      "source": [
        "def row_sum(arr, specific_row, no_of_cols):\n",
        "  sum = 0\n",
        "  for j in range(no_of_cols):\n",
        "    sum += arr[specific_row][j]\n",
        "\n",
        "  return sum"
      ],
      "metadata": {
        "id": "V5qfVIVerH0c"
      },
      "execution_count": null,
      "outputs": []
    },
    {
      "cell_type": "code",
      "source": [
        "import numpy as np\n",
        "arr = np.zeros((3, 3))\n",
        "\n",
        "print(arr)"
      ],
      "metadata": {
        "colab": {
          "base_uri": "https://localhost:8080/"
        },
        "id": "mpgLLlt2sTPf",
        "outputId": "f510a852-6d1c-4095-d78f-9ce324ca0745"
      },
      "execution_count": null,
      "outputs": [
        {
          "output_type": "stream",
          "name": "stdout",
          "text": [
            "[[0. 0. 0.]\n",
            " [0. 0. 0.]\n",
            " [0. 0. 0.]]\n"
          ]
        }
      ]
    },
    {
      "cell_type": "code",
      "source": [
        "arr[0][0] = 1\n",
        "arr[0][1] = 2\n",
        "arr[0][2] = 3\n",
        "\n",
        "arr[1][0] = 4\n",
        "arr[1][1] = 5\n",
        "arr[1][2] = 6\n",
        "\n",
        "arr[2][0] = 7\n",
        "arr[2][1] = 8\n",
        "arr[2][2] = 9\n",
        "\n",
        "print(arr)"
      ],
      "metadata": {
        "colab": {
          "base_uri": "https://localhost:8080/"
        },
        "id": "uU0U8KgXsVJY",
        "outputId": "3f526344-c269-4301-de7e-ccf73a8ec263"
      },
      "execution_count": null,
      "outputs": [
        {
          "output_type": "stream",
          "name": "stdout",
          "text": [
            "[[1. 2. 3.]\n",
            " [4. 5. 6.]\n",
            " [7. 8. 9.]]\n"
          ]
        }
      ]
    },
    {
      "cell_type": "code",
      "source": [
        "def find_trace(arr, rows, cols):\n",
        "  trace = 0\n",
        "\n",
        "  for i in range(rows):\n",
        "    for j in range(cols):\n",
        "      if i==j:\n",
        "        trace += arr[i][j]\n",
        "\n",
        "  return trace"
      ],
      "metadata": {
        "id": "uCort0ppsZqH"
      },
      "execution_count": null,
      "outputs": []
    },
    {
      "cell_type": "code",
      "source": [
        "print(find_trace(arr, 3, 3))"
      ],
      "metadata": {
        "colab": {
          "base_uri": "https://localhost:8080/"
        },
        "id": "PWdGcEb3svv_",
        "outputId": "f57509d5-4e3a-4e5d-a65b-d2adb59fba9f"
      },
      "execution_count": null,
      "outputs": [
        {
          "output_type": "stream",
          "name": "stdout",
          "text": [
            "15.0\n"
          ]
        }
      ]
    },
    {
      "cell_type": "code",
      "source": [
        "def find_trace(arr, dims):\n",
        "  trace = 0\n",
        "\n",
        "  for i in range(dims):\n",
        "        trace += arr[i][i]\n",
        "\n",
        "  return trace"
      ],
      "metadata": {
        "id": "2GgzuH5ds6Sf"
      },
      "execution_count": null,
      "outputs": []
    },
    {
      "cell_type": "code",
      "source": [
        "A = [[12, 7, 3],\n",
        "    [4, 5, 6],\n",
        "    [7, 8, 9]]\n",
        "\n",
        "# take a 3x4 matrix\n",
        "B = [[5, 8, 1, 2],\n",
        "    [6, 7, 3, 0],\n",
        "    [4, 5, 9, 1]]\n",
        "\n",
        "result = [[0, 0, 0, 0],\n",
        "        [0, 0, 0, 0],\n",
        "        [0, 0, 0, 0]]\n",
        "\n",
        "# iterating by row of A\n",
        "for i in range(len(A)):\n",
        "\n",
        "    # iterating by column by B\n",
        "    for j in range(len(B[0])):\n",
        "\n",
        "        # iterating by rows of B\n",
        "        for k in range(len(B)):\n",
        "            result[i][j] += A[i][k] * B[k][j]\n",
        "\n",
        "for r in result:\n",
        "    print(r)"
      ],
      "metadata": {
        "colab": {
          "base_uri": "https://localhost:8080/"
        },
        "id": "CopuVe91gdw5",
        "outputId": "6a4a0404-12ac-44b7-d489-3b7a35961809"
      },
      "execution_count": null,
      "outputs": [
        {
          "output_type": "stream",
          "name": "stdout",
          "text": [
            "[114, 160, 60, 27]\n",
            "[74, 97, 73, 14]\n",
            "[119, 157, 112, 23]\n"
          ]
        }
      ]
    },
    {
      "cell_type": "code",
      "source": [
        " if len(A[0]) != len(B):\n",
        "      print(\"Invalid matrix dimensions\")"
      ],
      "metadata": {
        "id": "ZbULi2qGg4DA"
      },
      "execution_count": null,
      "outputs": []
    },
    {
      "cell_type": "code",
      "source": [
        "for i in rows of A:\n",
        "  for j in cols of B:\n",
        "    result[i][j] = ith row of A . jth col of B"
      ],
      "metadata": {
        "id": "MXx6AV9ZkHs-"
      },
      "execution_count": null,
      "outputs": []
    },
    {
      "cell_type": "code",
      "source": [
        "# A = row1 * col1\n",
        "# B = row2 * col2\n",
        "\n",
        "def matrix_multiplication(A, B, row1, col1, row2, col2):\n",
        "  result = np.zeros(row1, col2)\n",
        "\n",
        "  if col1 != row2:\n",
        "    return \"Invalid Dimensions\"\n",
        "\n",
        "  for i in range(row1):\n",
        "    for j in range(col2):\n",
        "      for k in range(col1): #row2\n",
        "        result[i][j] += A[i][k] * B[k][j]\n",
        "\n",
        "  return result"
      ],
      "metadata": {
        "id": "bz9w6tXomMxc"
      },
      "execution_count": null,
      "outputs": []
    },
    {
      "cell_type": "code",
      "source": [
        "# A = row1 * col1\n",
        "# B = row2 * col2\n",
        "import numpy as np\n",
        "def matrix_multiplication(A, B):\n",
        "  row1 = len(A)\n",
        "  col1 = len(A[0])\n",
        "  row2 = len(B)\n",
        "  col2 = len(B[0])\n",
        "\n",
        "  if col1 != row2:\n",
        "    return \"invalid dimensions\"\n",
        "\n",
        "  C = np.zeros((row1, col2))\n",
        "\n",
        "  for i in range(row1):\n",
        "    for j in range(col2):\n",
        "      #####c[i][j] = row i . col j####\n",
        "      for k in range(col1): #row2\n",
        "        C[i][j] += A[i][k] * B[k][j]\n",
        "\n",
        "  return C"
      ],
      "metadata": {
        "id": "V0QkaQya111t"
      },
      "execution_count": null,
      "outputs": []
    },
    {
      "cell_type": "code",
      "source": [
        "A = [[12, 7, 3],\n",
        "    [4, 5, 6],\n",
        "    [7, 8, 9]]\n",
        "\n",
        "# take a 3x4 matrix\n",
        "B = [[5, 8, 1, 2],\n",
        "    [6, 7, 3, 0],\n",
        "    [4, 5, 9, 1]]"
      ],
      "metadata": {
        "id": "dxuofXeJ9OsN"
      },
      "execution_count": null,
      "outputs": []
    },
    {
      "cell_type": "code",
      "source": [
        "print(matrix_multiplication(A, B))"
      ],
      "metadata": {
        "colab": {
          "base_uri": "https://localhost:8080/"
        },
        "id": "L03RC50w8s11",
        "outputId": "f6dc014a-5e4e-4193-8ac3-c2041a6bf250"
      },
      "execution_count": null,
      "outputs": [
        {
          "output_type": "stream",
          "name": "stdout",
          "text": [
            "[[114. 160.  60.  27.]\n",
            " [ 74.  97.  73.  14.]\n",
            " [119. 157. 112.  23.]]\n"
          ]
        }
      ]
    },
    {
      "cell_type": "code",
      "source": [
        "def row_it(m):\n",
        "    row,col=m.shape\n",
        "    for i in range(0,row):\n",
        "        for j in range(0, col):\n",
        "            print(m[i][j])\n",
        "    return m"
      ],
      "metadata": {
        "id": "roBWDAP7eQ9x"
      },
      "execution_count": null,
      "outputs": []
    },
    {
      "cell_type": "code",
      "source": [
        "print(row_it(arrr))"
      ],
      "metadata": {
        "colab": {
          "base_uri": "https://localhost:8080/"
        },
        "id": "DB8Igidve1Qz",
        "outputId": "1e719e30-789c-4fee-c7e4-7b5bb1c8537a"
      },
      "execution_count": null,
      "outputs": [
        {
          "output_type": "stream",
          "name": "stdout",
          "text": [
            "1\n",
            "2\n",
            "3\n",
            "4\n",
            "5\n",
            "6\n",
            "[[1 2]\n",
            " [3 4]\n",
            " [5 6]]\n"
          ]
        }
      ]
    },
    {
      "cell_type": "code",
      "source": [
        "def col_it(m):\n",
        "    r,c=m.shape\n",
        "    for i in range(c):\n",
        "        for j in range(r):\n",
        "            print(m[j][i])\n",
        "    return m"
      ],
      "metadata": {
        "id": "qP5grQybf47H"
      },
      "execution_count": null,
      "outputs": []
    },
    {
      "cell_type": "code",
      "source": [
        "print(col_it(arrr))"
      ],
      "metadata": {
        "id": "e93__PEVgOcu",
        "outputId": "f7e0090b-5f08-4c74-e034-f09ddc43e680",
        "colab": {
          "base_uri": "https://localhost:8080/"
        }
      },
      "execution_count": null,
      "outputs": [
        {
          "output_type": "stream",
          "name": "stdout",
          "text": [
            "1\n",
            "3\n",
            "5\n",
            "2\n",
            "4\n",
            "6\n",
            "[[1 2]\n",
            " [3 4]\n",
            " [5 6]]\n"
          ]
        }
      ]
    },
    {
      "cell_type": "code",
      "source": [
        "import numpy as np\n",
        "\n",
        "def c_itt(x):\n",
        "    r,c=arr.shape\n",
        "    for i in range(c):\n",
        "        for j in range(r):\n",
        "            print(x[j][i])\n",
        "c_itt(arrr)"
      ],
      "metadata": {
        "colab": {
          "base_uri": "https://localhost:8080/"
        },
        "id": "xhFnhAj-LyMt",
        "outputId": "ddd62ecb-9d10-4023-894e-e2051a8b87fc"
      },
      "execution_count": null,
      "outputs": [
        {
          "output_type": "stream",
          "name": "stdout",
          "text": [
            "1.0\n",
            "3.0\n",
            "5.0\n",
            "2.0\n",
            "4.0\n",
            "6.0\n"
          ]
        }
      ]
    }
  ]
}