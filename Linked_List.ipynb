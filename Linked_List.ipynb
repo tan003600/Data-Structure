{
  "nbformat": 4,
  "nbformat_minor": 0,
  "metadata": {
    "colab": {
      "provenance": [],
      "include_colab_link": true
    },
    "kernelspec": {
      "name": "python3",
      "display_name": "Python 3"
    },
    "language_info": {
      "name": "python"
    }
  },
  "cells": [
    {
      "cell_type": "markdown",
      "metadata": {
        "id": "view-in-github",
        "colab_type": "text"
      },
      "source": [
        "<a href=\"https://colab.research.google.com/github/tan003600/Data-Structure/blob/main/Linked_List.ipynb\" target=\"_parent\"><img src=\"https://colab.research.google.com/assets/colab-badge.svg\" alt=\"Open In Colab\"/></a>"
      ]
    },
    {
      "cell_type": "code",
      "execution_count": null,
      "metadata": {
        "id": "YvAvsvFYVElu"
      },
      "outputs": [],
      "source": [
        "class Node:\n",
        "  def __init__(self, element, next_node):\n",
        "    self.element = element\n",
        "    self.next = next_node"
      ]
    },
    {
      "cell_type": "code",
      "source": [
        "arr = [10, 20, 30, 40, 50, 60]\n",
        "def create_list(arr):\n",
        "  head = Node(arr[0], None)\n",
        "  cur = head\n",
        "  for i in range(1, len(arr)):\n",
        "    node = Node(arr[i], None)\n",
        "    cur.next = node\n",
        "    cur = node\n",
        "\n",
        "  return head"
      ],
      "metadata": {
        "id": "vk2df49cZ3L2"
      },
      "execution_count": null,
      "outputs": []
    },
    {
      "cell_type": "code",
      "source": [
        "def iterate(head):\n",
        "  cur = head\n",
        "  while cur!=None:\n",
        "    print(cur.element, end=\" \")\n",
        "    cur = cur.next"
      ],
      "metadata": {
        "id": "73E1xz5casrL"
      },
      "execution_count": null,
      "outputs": []
    },
    {
      "cell_type": "code",
      "source": [
        "head = create_list(arr)\n",
        "iterate(head)"
      ],
      "metadata": {
        "colab": {
          "base_uri": "https://localhost:8080/"
        },
        "id": "78LxJh_PbGst",
        "outputId": "ad7ded24-7ccd-4022-e9f2-cdfdec2c37e8"
      },
      "execution_count": null,
      "outputs": [
        {
          "output_type": "stream",
          "name": "stdout",
          "text": [
            "10 20 30 40 50 60 "
          ]
        }
      ]
    },
    {
      "cell_type": "code",
      "source": [
        "def count_nodes(head):\n",
        "  cur = head\n",
        "  count = 0\n",
        "  while cur!=None:\n",
        "    count += 1\n",
        "    cur = cur.next\n",
        "  return count\n",
        "\n",
        "print(count_nodes(head))"
      ],
      "metadata": {
        "colab": {
          "base_uri": "https://localhost:8080/"
        },
        "id": "kwNvT5jjbbz4",
        "outputId": "c4c2a773-4473-4d1d-e33f-568230108cd0"
      },
      "execution_count": null,
      "outputs": [
        {
          "output_type": "stream",
          "name": "stdout",
          "text": [
            "6\n"
          ]
        }
      ]
    },
    {
      "cell_type": "code",
      "source": [
        "def element_at(head, idx):\n",
        "  cur = head\n",
        "  cur_idx = 0\n",
        "\n",
        "  while cur != None:\n",
        "    if cur_idx == idx:\n",
        "      return cur.element\n",
        "    else:\n",
        "      cur_idx += 1\n",
        "      cur = cur.next\n",
        "\n",
        "print(element_at(head, 3))\n"
      ],
      "metadata": {
        "colab": {
          "base_uri": "https://localhost:8080/"
        },
        "id": "gbGrL2-lby6b",
        "outputId": "1b884112-d06e-419a-d19c-389620ec2a3a"
      },
      "execution_count": null,
      "outputs": [
        {
          "output_type": "stream",
          "name": "stdout",
          "text": [
            "40\n"
          ]
        }
      ]
    },
    {
      "cell_type": "code",
      "source": [
        "def node_at(head, idx):\n",
        "  cur = head\n",
        "  cur_idx = 0\n",
        "\n",
        "  while cur != None:\n",
        "    if cur_idx == idx:\n",
        "      return cur\n",
        "    else:\n",
        "      cur_idx += 1\n",
        "      cur = cur.next\n",
        "\n",
        "print(node_at(head, 3))\n",
        "print(node_at(head, 3).element)"
      ],
      "metadata": {
        "colab": {
          "base_uri": "https://localhost:8080/"
        },
        "id": "p9bvQkG4cmL5",
        "outputId": "06dde092-eee1-4f3a-ce1d-c30f00cb05d6"
      },
      "execution_count": null,
      "outputs": [
        {
          "output_type": "stream",
          "name": "stdout",
          "text": [
            "<__main__.Node object at 0x7c9115a06650>\n",
            "40\n"
          ]
        }
      ]
    },
    {
      "cell_type": "code",
      "source": [
        "def insert(head, elem, idx):\n",
        "  total_nodes = count_nodes(head)\n",
        "  if idx==0:\n",
        "    new_head = Node(elem, head)\n",
        "    head = new_head\n",
        "\n",
        "  elif idx>0 and idx<total_nodes:\n",
        "    new_node = Node(elem, head)\n",
        "    n1 = node_at(head, idx-1)\n",
        "    n2 = node_at(head, idx)\n",
        "    n1.next = new_node\n",
        "    new_node.next = n2\n",
        "\n",
        "  elif idx==total_nodes:\n",
        "    new_node = Node(elem, None)\n",
        "    n1 = node_at(head, total_nodes-1)\n",
        "    n1.next = new_node\n",
        "\n",
        "  return head\n",
        "\n",
        "\n",
        "head = insert(head, 5, 0)\n",
        "head = insert(head, 15, 4)\n",
        "head = insert(head, 25, 8)\n",
        "iterate(head)\n"
      ],
      "metadata": {
        "colab": {
          "base_uri": "https://localhost:8080/"
        },
        "id": "P2zVa5BMcw_i",
        "outputId": "32a4f13b-5805-476a-9785-95cb39c7acaa"
      },
      "execution_count": null,
      "outputs": [
        {
          "output_type": "stream",
          "name": "stdout",
          "text": [
            "5 10 20 30 15 40 50 60 25 "
          ]
        }
      ]
    },
    {
      "cell_type": "code",
      "source": [
        "def copy_list(source_head):\n",
        "  if source_head == None:\n",
        "    return None\n",
        "\n",
        "  copy_head = Node(source_head.element, None)\n",
        "  cur = source_head.next\n",
        "  copy_cur = copy_head\n",
        "\n",
        "  while cur != None:\n",
        "    copy_node = Node(cur.element, None)\n",
        "    copy_cur.next = copy_node\n",
        "    copy_cur = copy_node\n",
        "    cur = cur.next\n",
        "\n",
        "  return copy_head\n",
        "\n",
        "\n",
        "copy_head =  copy_list(head)\n",
        "iterate(copy_head)\n"
      ],
      "metadata": {
        "colab": {
          "base_uri": "https://localhost:8080/"
        },
        "id": "nWdmI_ODdOwv",
        "outputId": "44eece4f-f227-41e0-91ed-ae2d3e274474"
      },
      "execution_count": null,
      "outputs": [
        {
          "output_type": "stream",
          "name": "stdout",
          "text": [
            "5 10 20 30 15 40 50 60 25 "
          ]
        }
      ]
    },
    {
      "cell_type": "code",
      "source": [
        "head  = create_list(arr)\n",
        "def reverse_in_place(head):\n",
        "  prev = None\n",
        "  cur = head\n",
        "  nxt = cur.next\n",
        "\n",
        "  while cur!=None:\n",
        "    nxt = cur.next\n",
        "    cur.next = prev\n",
        "    prev = cur\n",
        "    cur = nxt\n",
        "\n",
        "  return prev\n",
        "\n",
        "iterate(head)\n",
        "print()\n",
        "print('--------------------')\n",
        "rev_head = reverse_in_place(head)\n",
        "iterate(rev_head)\n"
      ],
      "metadata": {
        "colab": {
          "base_uri": "https://localhost:8080/"
        },
        "id": "X-hx8a8bmBqe",
        "outputId": "519649c2-b4ff-48b9-e237-a7df000d1007"
      },
      "execution_count": null,
      "outputs": [
        {
          "output_type": "stream",
          "name": "stdout",
          "text": [
            "10 20 30 40 50 60 \n",
            "--------------------\n",
            "60 50 40 30 20 10 "
          ]
        }
      ]
    },
    {
      "cell_type": "code",
      "source": [
        "def if_ascending(head):\n",
        "  cur = head\n",
        "\n",
        "  while(cur.next != None)\n",
        "    if cur.elem > cur.next.elem:\n",
        "      return False\n",
        "    cur = cur.next\n",
        "\n",
        "  return True"
      ],
      "metadata": {
        "id": "oC3CbOCheH9F",
        "colab": {
          "base_uri": "https://localhost:8080/",
          "height": 141
        },
        "outputId": "c87ff5f2-a071-4780-e3a7-9c4d5d60358b"
      },
      "execution_count": null,
      "outputs": [
        {
          "output_type": "error",
          "ename": "SyntaxError",
          "evalue": "ignored",
          "traceback": [
            "\u001b[0;36m  File \u001b[0;32m\"<ipython-input-34-e396e20c8eec>\"\u001b[0;36m, line \u001b[0;32m4\u001b[0m\n\u001b[0;31m    while(cur.next != None)\u001b[0m\n\u001b[0m                           ^\u001b[0m\n\u001b[0;31mSyntaxError\u001b[0m\u001b[0;31m:\u001b[0m expected ':'\n"
          ]
        }
      ]
    },
    {
      "cell_type": "code",
      "source": [
        "class Node:\n",
        "  def __init__(self, element, next_node):\n",
        "    self.element = element\n",
        "    self.next = next_node"
      ],
      "metadata": {
        "id": "kt0Hc-ji-sy2"
      },
      "execution_count": null,
      "outputs": []
    },
    {
      "cell_type": "code",
      "source": [
        "def is_cycle_present(head):\n",
        "  slow = head\n",
        "  fast = head\n",
        "\n",
        "  while slow and fast.next:\n",
        "    slow = slow.next\n",
        "    fast = fast.next.next\n",
        "    if slow == fast:\n",
        "      return True\n",
        "\n",
        "  return False"
      ],
      "metadata": {
        "id": "lNlgN_Jmyk_H"
      },
      "execution_count": null,
      "outputs": []
    },
    {
      "cell_type": "code",
      "source": [
        "node1 = Node(1, None)\n",
        "node2 = Node(2, None)\n",
        "node3 = Node(3, None)\n",
        "node4 = Node(4, None)\n",
        "node5 = Node(5, None)\n",
        "\n",
        "node1.next = node2\n",
        "node2.next = node3\n",
        "node3.next = node4\n",
        "node4.next = node5\n",
        "node5.next = None\n",
        "\n",
        "is_cycle_present(node1)"
      ],
      "metadata": {
        "colab": {
          "base_uri": "https://localhost:8080/"
        },
        "id": "XLqvSDBqy6sn",
        "outputId": "d63dded5-8451-40ae-89fa-a79dcae42e92"
      },
      "execution_count": null,
      "outputs": [
        {
          "output_type": "execute_result",
          "data": {
            "text/plain": [
              "False"
            ]
          },
          "metadata": {},
          "execution_count": 5
        }
      ]
    },
    {
      "cell_type": "code",
      "source": [
        "def removeElements(head, val):\n",
        " cur = head\n",
        " while cur.next:\n",
        "  if cur.next.val == val:\n",
        "    cur.next = cur.next.next\n",
        "\n",
        " if cur.val == val:\n",
        "  cur = None\n",
        "\n",
        " if head.val == val:\n",
        "  head = head.next\n",
        "\n",
        " return head"
      ],
      "metadata": {
        "id": "XXvFscfkQCZu"
      },
      "execution_count": null,
      "outputs": []
    },
    {
      "cell_type": "code",
      "source": [
        "def removeElements(head, val):\n",
        "  prev = head\n",
        "  cur = head.next\n",
        "\n",
        "  while not cur:\n",
        "    if cur.val == val:\n",
        "      nxt = cur.next\n",
        "      prev.next =\n",
        "      prev = cur\n",
        "      cur = nxt\n",
        "\n",
        "  if head.val ==val:\n",
        "    head = head.next\n",
        "\n",
        "  return head\n",
        "\n"
      ],
      "metadata": {
        "id": "uiEGGcFFTdrI"
      },
      "execution_count": null,
      "outputs": []
    },
    {
      "cell_type": "code",
      "source": [
        " if head  is None:\n",
        "            return head\n",
        "\n",
        "        cur = head\n",
        "        while cur.next.next != None:\n",
        "            if cur.next.val == val:\n",
        "                cur.next = cur.next.next\n",
        "            cur = cur.next\n",
        "\n",
        "        if cur.next.val == val:\n",
        "            cur.next = None\n",
        "\n",
        "        if cur.val == val:\n",
        "            cur = None\n",
        "\n",
        "        if head.val == val:\n",
        "            head = head.next\n",
        "\n",
        "        return head"
      ],
      "metadata": {
        "id": "74FvyR3NUONz"
      },
      "execution_count": null,
      "outputs": []
    }
  ]
}