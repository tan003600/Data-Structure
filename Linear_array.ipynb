{
  "nbformat": 4,
  "nbformat_minor": 0,
  "metadata": {
    "colab": {
      "provenance": [],
      "include_colab_link": true
    },
    "kernelspec": {
      "name": "python3",
      "display_name": "Python 3"
    },
    "language_info": {
      "name": "python"
    }
  },
  "cells": [
    {
      "cell_type": "markdown",
      "metadata": {
        "id": "view-in-github",
        "colab_type": "text"
      },
      "source": [
        "<a href=\"https://colab.research.google.com/github/tan003600/Data-Structure/blob/main/Linear_array.ipynb\" target=\"_parent\"><img src=\"https://colab.research.google.com/assets/colab-badge.svg\" alt=\"Open In Colab\"/></a>"
      ]
    },
    {
      "cell_type": "code",
      "execution_count": null,
      "metadata": {
        "colab": {
          "base_uri": "https://localhost:8080/"
        },
        "id": "9H20aTwkRLUM",
        "outputId": "a02a1e93-9722-4151-8778-f325edb31452"
      },
      "outputs": [
        {
          "output_type": "stream",
          "name": "stdout",
          "text": [
            "[None, None, None, None]\n",
            "None\n"
          ]
        }
      ],
      "source": [
        "arr = [None] * 4\n",
        "print(arr)\n",
        "print(arr[0])"
      ]
    },
    {
      "cell_type": "code",
      "source": [
        "import numpy as np\n",
        "arr=[0]*4\n",
        "print(arr)"
      ],
      "metadata": {
        "colab": {
          "base_uri": "https://localhost:8080/"
        },
        "id": "jTOGG5U8LjIy",
        "outputId": "7d58247d-d37b-471a-ace7-d6dd08d046c8"
      },
      "execution_count": null,
      "outputs": [
        {
          "output_type": "stream",
          "name": "stdout",
          "text": [
            "[0, 0, 0, 0]\n"
          ]
        }
      ]
    },
    {
      "cell_type": "code",
      "source": [
        "arr[0] = 'Sarika'\n",
        "print(arr)\n",
        "arr[1] = 'Bhaskar'\n",
        "arr[2] = 'Wasif'\n",
        "arr[3] = 'Mahim'\n",
        "print(arr)"
      ],
      "metadata": {
        "colab": {
          "base_uri": "https://localhost:8080/"
        },
        "id": "htBeoV7JRs7n",
        "outputId": "5c5c9443-7e7b-4a37-b873-34139dbe0673"
      },
      "execution_count": null,
      "outputs": [
        {
          "output_type": "stream",
          "name": "stdout",
          "text": [
            "['Sarika', None, None, None]\n",
            "['Sarika', 'Bhaskar', 'Wasif', 'Mahim']\n"
          ]
        }
      ]
    },
    {
      "cell_type": "code",
      "source": [
        "for x in arr:\n",
        "  print(x)\n"
      ],
      "metadata": {
        "colab": {
          "base_uri": "https://localhost:8080/"
        },
        "id": "EkrG_NTsRwc-",
        "outputId": "180b8ee5-d98d-45d4-bea2-0df22f366067"
      },
      "execution_count": null,
      "outputs": [
        {
          "output_type": "stream",
          "name": "stdout",
          "text": [
            "Sarika\n",
            "Bhaskar\n",
            "Wasif\n",
            "Mahim\n"
          ]
        }
      ]
    },
    {
      "cell_type": "code",
      "source": [
        "for i in range(0, len(arr), 1):\n",
        "  print(arr[i])"
      ],
      "metadata": {
        "colab": {
          "base_uri": "https://localhost:8080/"
        },
        "id": "CoonJS3jSRxv",
        "outputId": "6d825e25-5dc2-4058-a71e-20dc91aa7f51"
      },
      "execution_count": null,
      "outputs": [
        {
          "output_type": "stream",
          "name": "stdout",
          "text": [
            "Sarika\n",
            "Bhaskar\n",
            "Wasif\n",
            "Mahim\n"
          ]
        }
      ]
    },
    {
      "cell_type": "code",
      "source": [
        "new_arr = [None]*8\n",
        "print(new_arr)"
      ],
      "metadata": {
        "id": "1rry03VaShnA",
        "colab": {
          "base_uri": "https://localhost:8080/"
        },
        "outputId": "25cd22e5-014d-4fa9-eb06-c54cc4f7525f"
      },
      "execution_count": null,
      "outputs": [
        {
          "output_type": "stream",
          "name": "stdout",
          "text": [
            "[None, None, None, None, None, None, None, None]\n"
          ]
        }
      ]
    },
    {
      "cell_type": "code",
      "source": [
        "def resize_arr(old_arr, new_arr_size):\n",
        "  new_arr = [None]*new_arr_size\n",
        "\n",
        "  for i in range(0, len(old_arr), 1):\n",
        "    new_arr[ i] = old_arr[i]\n",
        "\n",
        "  return new_arr"
      ],
      "metadata": {
        "id": "TGA2TtJ7SteI"
      },
      "execution_count": null,
      "outputs": []
    },
    {
      "cell_type": "code",
      "source": [
        "arr = [None] * 4\n",
        "\n",
        "arr[0] = 'Sarika'\n",
        "arr[1] = 'Bhaskar'\n",
        "arr[2] = 'Wasif'\n",
        "arr[3] = 'Mahim'\n",
        "\n",
        "print(arr)\n",
        "arr = resize_arr(arr, 8)\n",
        "print(arr)"
      ],
      "metadata": {
        "colab": {
          "base_uri": "https://localhost:8080/"
        },
        "id": "JZeGTRm1TnN3",
        "outputId": "fb3c2935-9762-40d8-feaa-43c1ccfd7fcd"
      },
      "execution_count": null,
      "outputs": [
        {
          "output_type": "stream",
          "name": "stdout",
          "text": [
            "['Sarika', 'Bhaskar', 'Wasif', 'Mahim']\n",
            "['Sarika', 'Bhaskar', 'Wasif', 'Mahim', None, None, None, None]\n"
          ]
        }
      ]
    },
    {
      "cell_type": "code",
      "source": [
        "arr = [None]*5\n",
        "print(arr)"
      ],
      "metadata": {
        "colab": {
          "base_uri": "https://localhost:8080/"
        },
        "id": "qJFlvwDqkava",
        "outputId": "5c229e65-189b-4103-aa8b-48b1a40fc8d0"
      },
      "execution_count": null,
      "outputs": [
        {
          "output_type": "stream",
          "name": "stdout",
          "text": [
            "[None, None, None, None, None]\n"
          ]
        }
      ]
    },
    {
      "cell_type": "code",
      "source": [
        "arr[0] = 'Niha'\n",
        "arr[1] = 'Shuvro'\n",
        "arr[2] = 'Torsha'\n",
        "arr[3] = 'Rahin'\n",
        "arr[4]= 'Sayeed'\n",
        "\n",
        "print(arr)"
      ],
      "metadata": {
        "colab": {
          "base_uri": "https://localhost:8080/"
        },
        "id": "PA2ZzbibkhEL",
        "outputId": "0c1441ab-066b-4e09-9072-801ef54b4a18"
      },
      "execution_count": null,
      "outputs": [
        {
          "output_type": "stream",
          "name": "stdout",
          "text": [
            "['Niha', 'Shuvro', 'Torsha', 'Rahin', 'Sayeed']\n"
          ]
        }
      ]
    },
    {
      "cell_type": "code",
      "source": [
        "#####Not allowed#######\n",
        "for x in arr:\n",
        "  print(x)"
      ],
      "metadata": {
        "colab": {
          "base_uri": "https://localhost:8080/"
        },
        "id": "EsFhC6_AlLSE",
        "outputId": "ff989b20-5c06-461c-d6fd-28edfb8da57a"
      },
      "execution_count": null,
      "outputs": [
        {
          "output_type": "stream",
          "name": "stdout",
          "text": [
            "Niha\n",
            "Shuvro\n",
            "Torsha\n",
            "Rahin\n",
            "Sayeed\n"
          ]
        }
      ]
    },
    {
      "cell_type": "code",
      "source": [
        "print(\"idx\", \"elem\")\n",
        "print(\"-----------\")\n",
        "for i in range(0, len(arr), 1):\n",
        "  print(i+1, \".\", arr[i])"
      ],
      "metadata": {
        "colab": {
          "base_uri": "https://localhost:8080/"
        },
        "id": "Au-rY4vnlP8U",
        "outputId": "85d05ee3-67cd-4bde-be2d-792822a58aba"
      },
      "execution_count": null,
      "outputs": [
        {
          "output_type": "stream",
          "name": "stdout",
          "text": [
            "idx elem\n",
            "-----------\n",
            "1 . Niha\n",
            "2 . Shuvro\n",
            "3 . Torsha\n",
            "4 . Rahin\n",
            "5 . Sayeed\n"
          ]
        }
      ]
    },
    {
      "cell_type": "code",
      "source": [
        "def resize_arr(old_arr, new_size):\n",
        "  new_arr = [None]*new_size\n",
        "\n",
        "  for i in range(0, len(old_arr), 1):\n",
        "    new_arr[i] = old_arr[i]\n",
        "\n"
      ],
      "metadata": {
        "id": "xcXr6F1QllnM"
      },
      "execution_count": null,
      "outputs": []
    },
    {
      "cell_type": "code",
      "source": [
        "arr = [10, 20 , 30 , 40 , 50]\n",
        "arr = resize_arr(arr, 8)\n",
        "print(arr)"
      ],
      "metadata": {
        "colab": {
          "base_uri": "https://localhost:8080/"
        },
        "id": "arFLzTQGnTwa",
        "outputId": "03d7dd0b-a374-4a7b-d12d-d8b01cccc226"
      },
      "execution_count": null,
      "outputs": [
        {
          "output_type": "stream",
          "name": "stdout",
          "text": [
            "None\n"
          ]
        }
      ]
    },
    {
      "cell_type": "code",
      "source": [
        "#forward itr\n",
        "arr = [10, 20, 30, 40, 50]\n",
        "for i in range(0, len(arr), 1):\n",
        "  print(arr[i], end= \" \")"
      ],
      "metadata": {
        "colab": {
          "base_uri": "https://localhost:8080/"
        },
        "id": "VltRMhYGeTxl",
        "outputId": "f3cec4ad-b0fd-45bd-dd4d-79c88823c6c4"
      },
      "execution_count": null,
      "outputs": [
        {
          "output_type": "stream",
          "name": "stdout",
          "text": [
            "10 20 30 40 50 "
          ]
        }
      ]
    },
    {
      "cell_type": "code",
      "source": [
        "#backward itr\n",
        "for i in range(len(arr)-1, -1, -1):\n",
        "  print(arr[i], end=\" \")"
      ],
      "metadata": {
        "colab": {
          "base_uri": "https://localhost:8080/"
        },
        "id": "d9JkZd9FefW2",
        "outputId": "0830e520-5af0-419c-ec29-f07b9df0bf54"
      },
      "execution_count": null,
      "outputs": [
        {
          "output_type": "stream",
          "name": "stdout",
          "text": [
            "50 40 30 20 10 "
          ]
        }
      ]
    },
    {
      "cell_type": "code",
      "source": [
        "#array_reverse\n",
        "def reverse_array(source):\n",
        "  copy_arr = [None]*len(source) #out of place array, extra memory, hence out of place\n",
        "  j=0\n",
        "  for i in range(len(source)-1, -1, -1):\n",
        "    copy_arr[j] = source[i]\n",
        "    j+=1\n",
        "\n",
        "  return copy_arr"
      ],
      "metadata": {
        "id": "1pm878L-f3bb"
      },
      "execution_count": null,
      "outputs": []
    },
    {
      "cell_type": "code",
      "source": [
        "rev_arr = reverse_array(arr)\n",
        "print(rev_arr)"
      ],
      "metadata": {
        "colab": {
          "base_uri": "https://localhost:8080/"
        },
        "id": "aj4TAoYYgk8O",
        "outputId": "6b361a99-6385-4011-fa3b-cb77c44a2982"
      },
      "execution_count": null,
      "outputs": [
        {
          "output_type": "stream",
          "name": "stdout",
          "text": [
            "[50, 40, 30, 20, 10]\n"
          ]
        }
      ]
    },
    {
      "cell_type": "code",
      "source": [
        "def reverse_in_place(source):\n",
        "  l = len(source)\n",
        "  for i in range(0, l//2, 1):\n",
        "    temp = source[i]\n",
        "    source[i] = source[l-1-i]\n",
        "    source[l-1-i] = temp\n",
        "\n",
        "  return source"
      ],
      "metadata": {
        "id": "PvQpFVXQg2Bf"
      },
      "execution_count": null,
      "outputs": []
    },
    {
      "cell_type": "code",
      "source": [
        "print(reverse_in_place(arr))"
      ],
      "metadata": {
        "colab": {
          "base_uri": "https://localhost:8080/"
        },
        "id": "4-GQeHd-jUYO",
        "outputId": "81b7c2eb-0da2-43b2-a88b-9c5449de8c25"
      },
      "execution_count": null,
      "outputs": [
        {
          "output_type": "stream",
          "name": "stdout",
          "text": [
            "[50, 40, 30, 20, 10]\n"
          ]
        }
      ]
    },
    {
      "cell_type": "code",
      "source": [
        "arr = [10, 20, 30 ,40 ,50]\n",
        "def shift_left(source):\n",
        "  l = len(source)\n",
        "  for i in range(0, l-1, 1):\n",
        "    source[i] = source[i+1]\n",
        "\n",
        "  source[l-1] = None\n",
        "\n",
        "  return source\n",
        "\n",
        "print(shift_left(arr))"
      ],
      "metadata": {
        "colab": {
          "base_uri": "https://localhost:8080/"
        },
        "id": "BRv1mRIEjw5U",
        "outputId": "8fef481f-1b70-4c9b-9306-ac4b5a104f22"
      },
      "execution_count": null,
      "outputs": [
        {
          "output_type": "stream",
          "name": "stdout",
          "text": [
            "[20, 30, 40, 50, None]\n"
          ]
        }
      ]
    },
    {
      "cell_type": "code",
      "source": [
        "arr = [10, 20, 30 ,40,50]\n",
        "\n",
        "def rotate_left(source, k):\n",
        "    l = len(source)\n",
        "\n",
        "    temp = source[0]\n",
        "    for i in range(0, l-1, 1):\n",
        "      source[i] = source[i+1]\n",
        "\n",
        "    source[l-1] = temp\n",
        "\n",
        "    return source\n",
        "\n",
        "print(rotate_left(arr, 2))"
      ],
      "metadata": {
        "colab": {
          "base_uri": "https://localhost:8080/"
        },
        "id": "o3sz9TwGnaEO",
        "outputId": "97d4b3e1-3f1d-4ba1-c88a-f56ef54cac19"
      },
      "execution_count": null,
      "outputs": [
        {
          "output_type": "stream",
          "name": "stdout",
          "text": [
            "[20, 30, 40, 50, 10]\n"
          ]
        }
      ]
    },
    {
      "cell_type": "code",
      "source": [
        "#insert element\n",
        "arr = [10, 20, 30 ,40,50, None, None]\n",
        "\n",
        "def insert(arr, size, element, index):\n",
        "\n",
        "  for i in range(size, index, -1):\n",
        "    arr[i] = arr[i-1]\n",
        "\n",
        "  arr[index] = element\n",
        "\n",
        "  return arr\n",
        "\n",
        "print(insert(arr, 5, 35, 3))"
      ],
      "metadata": {
        "colab": {
          "base_uri": "https://localhost:8080/"
        },
        "id": "Qr0DlwvSsLxD",
        "outputId": "f43332ff-cb9f-430e-d67d-668710564db9"
      },
      "execution_count": null,
      "outputs": [
        {
          "output_type": "stream",
          "name": "stdout",
          "text": [
            "[10, 20, 30, 35, 40, 50, None]\n"
          ]
        }
      ]
    },
    {
      "cell_type": "code",
      "source": [
        "arr = [10, 20, 30 ,40 ,50]\n",
        "\n",
        "def shift_right(source):\n",
        "    l=len(source)\n",
        "\n",
        "    for i in range(l-1, -1, -1):\n",
        "        source[i]=source[i-1]\n",
        "\n",
        "    source[0]=None\n",
        "\n",
        "    return source\n",
        "\n",
        "print(shift_right(arr))"
      ],
      "metadata": {
        "id": "TS5JOK3u_mAE",
        "colab": {
          "base_uri": "https://localhost:8080/"
        },
        "outputId": "63f7ef36-a8d3-44bb-97a4-7fc83cb8df25"
      },
      "execution_count": null,
      "outputs": [
        {
          "output_type": "stream",
          "name": "stdout",
          "text": [
            "[None, 10, 20, 30, 40]\n"
          ]
        }
      ]
    },
    {
      "cell_type": "code",
      "source": [
        "arr = [10, 20, 30 ,40 ,50]\n",
        "\n",
        "def rotate_right(source):\n",
        "    l=len(source)\n",
        "    temp=source[l-1]\n",
        "    for i in range(l-1,-1,-1):\n",
        "        source[i]=source[i-1]\n",
        "\n",
        "    source[0]=temp\n",
        "\n",
        "    return source\n",
        "\n",
        "print(rotate_right(arr))"
      ],
      "metadata": {
        "colab": {
          "base_uri": "https://localhost:8080/"
        },
        "id": "PNtCNjY7FQaJ",
        "outputId": "19dddc3f-8200-4871-93dd-2b7e3f35d18d"
      },
      "execution_count": null,
      "outputs": [
        {
          "output_type": "stream",
          "name": "stdout",
          "text": [
            "[50, 10, 20, 30, 40]\n"
          ]
        }
      ]
    },
    {
      "cell_type": "code",
      "source": [
        "import numpy as np\n",
        "new=np.zeros(5,dtype=int)\n",
        "print(new)"
      ],
      "metadata": {
        "colab": {
          "base_uri": "https://localhost:8080/"
        },
        "id": "8vrBZ0me68OW",
        "outputId": "21ff31e8-43d5-4ad7-fa85-258fcc0507dc"
      },
      "execution_count": null,
      "outputs": [
        {
          "output_type": "stream",
          "name": "stdout",
          "text": [
            "[0 0 0 0 0]\n"
          ]
        }
      ]
    },
    {
      "cell_type": "code",
      "source": [
        "import numpy as np\n",
        "arr=np.array([1,2,3,4])\n",
        "print(arr)"
      ],
      "metadata": {
        "colab": {
          "base_uri": "https://localhost:8080/"
        },
        "id": "LlY2vn2CJ7_N",
        "outputId": "1b7bbc0b-7ffc-4f64-e6bc-60171dbf0117"
      },
      "execution_count": null,
      "outputs": [
        {
          "output_type": "stream",
          "name": "stdout",
          "text": [
            "[1 2 3 4]\n"
          ]
        }
      ]
    },
    {
      "cell_type": "code",
      "source": [
        "x=3\n",
        "arr=[int],x,5\n",
        "print(arr)"
      ],
      "metadata": {
        "colab": {
          "base_uri": "https://localhost:8080/"
        },
        "id": "mvFTtYGyL9OX",
        "outputId": "1706d62a-84b1-40eb-e786-06fcba2567b7"
      },
      "execution_count": null,
      "outputs": [
        {
          "output_type": "stream",
          "name": "stdout",
          "text": [
            "([<class 'int'>], 3, 5)\n"
          ]
        }
      ]
    },
    {
      "cell_type": "code",
      "source": [
        "arr=np.array([1,2,3,4,5])"
      ],
      "metadata": {
        "id": "gxG8SOEjMcKX"
      },
      "execution_count": null,
      "outputs": []
    },
    {
      "cell_type": "code",
      "source": [
        "a=np.array([1,2,3,4,5])\n",
        "\n",
        "def it(arr):\n",
        "    for i in range(len(arr)):\n",
        "        print (arr[i])\n",
        "\n",
        "(it(a))"
      ],
      "metadata": {
        "colab": {
          "base_uri": "https://localhost:8080/"
        },
        "id": "4DjpL9dUMCVq",
        "outputId": "cc6f6a5d-235d-4468-dd34-002862a6239a"
      },
      "execution_count": null,
      "outputs": [
        {
          "output_type": "stream",
          "name": "stdout",
          "text": [
            "1\n",
            "2\n",
            "3\n",
            "4\n",
            "5\n"
          ]
        }
      ]
    },
    {
      "cell_type": "code",
      "source": [
        "a=np.array([1,2,3,4,5])\n",
        "def it(arr):\n",
        "    i=0\n",
        "    while i<len(a):\n",
        "        print (arr[i])\n",
        "        i+=1\n",
        "\n",
        "print(it(a))"
      ],
      "metadata": {
        "colab": {
          "base_uri": "https://localhost:8080/"
        },
        "id": "MSFz39LYMzmI",
        "outputId": "ee1c8dbe-7e93-4cd7-db82-90fc899cfae4"
      },
      "execution_count": null,
      "outputs": [
        {
          "output_type": "stream",
          "name": "stdout",
          "text": [
            "1\n",
            "2\n",
            "3\n",
            "4\n",
            "5\n",
            "None\n"
          ]
        }
      ]
    },
    {
      "cell_type": "code",
      "source": [
        "def it_rev(arr):\n",
        "    for i in range(len(arr)-1,-1,-1):\n",
        "        print(arr[i])\n",
        "\n",
        "it_rev(a)"
      ],
      "metadata": {
        "colab": {
          "base_uri": "https://localhost:8080/"
        },
        "id": "9TruWHdtOEo9",
        "outputId": "fd82382a-75bc-4586-f032-6c6a3b4b3407"
      },
      "execution_count": null,
      "outputs": [
        {
          "output_type": "stream",
          "name": "stdout",
          "text": [
            "5\n",
            "4\n",
            "3\n",
            "2\n",
            "1\n"
          ]
        }
      ]
    },
    {
      "cell_type": "code",
      "source": [
        "def it_rev(arr):\n",
        "    i=len(arr)-1\n",
        "    while i>-1:\n",
        "        print(arr[i])\n",
        "        i-=1\n",
        "\n",
        "it_rev(a)\n"
      ],
      "metadata": {
        "colab": {
          "base_uri": "https://localhost:8080/"
        },
        "id": "AN-FKWe9YM9x",
        "outputId": "3c6b9aba-79b6-4b71-c99c-14c90a94e69a"
      },
      "execution_count": null,
      "outputs": [
        {
          "output_type": "stream",
          "name": "stdout",
          "text": [
            "5\n",
            "4\n",
            "3\n",
            "2\n",
            "1\n"
          ]
        }
      ]
    },
    {
      "cell_type": "code",
      "source": [
        "import numpy as np\n",
        "a=np.array([1,2,3,4])\n",
        "b=np.array([10,20,30,40])\n",
        "x=len(b)-1\n",
        "for i in range(len(a)):\n",
        "    print(a[i],',',b[x])\n",
        "    x-=1"
      ],
      "metadata": {
        "colab": {
          "base_uri": "https://localhost:8080/"
        },
        "id": "Ie56imaG5_Fk",
        "outputId": "4c3f2261-35d0-4469-cc30-1546de31f66a"
      },
      "execution_count": null,
      "outputs": [
        {
          "output_type": "stream",
          "name": "stdout",
          "text": [
            "1 , 40\n",
            "2 , 30\n",
            "3 , 20\n",
            "4 , 10\n"
          ]
        }
      ]
    },
    {
      "cell_type": "code",
      "source": [
        "import numpy as np\n",
        "a=np.array([1,2,3,4])\n",
        "\n",
        "def leftshift(arr,idx):\n",
        "    for i in range(idx,len(arr)-1):\n",
        "        arr[i]=arr[i+1]\n",
        "    arr[len(arr)-1]=0\n",
        "    return arr\n",
        "\n",
        "def leftrotate(arr,idx):\n",
        "    temp=arr[0]\n",
        "    for i in range(idx,len(arr)-1):\n",
        "        arr[i]=arr[i+1]\n",
        "    arr[len(arr)-1]=temp\n",
        "    return arr\n",
        "\n",
        "print(leftshift(a,0))\n",
        "\n",
        "print(leftrotate(a,0))"
      ],
      "metadata": {
        "colab": {
          "base_uri": "https://localhost:8080/"
        },
        "id": "-cXymt4L7Iii",
        "outputId": "03b69df2-82ba-4ec5-eed1-cf0fddcd7895"
      },
      "execution_count": null,
      "outputs": [
        {
          "output_type": "stream",
          "name": "stdout",
          "text": [
            "[2 3 4 0]\n",
            "[3 4 0 2]\n"
          ]
        }
      ]
    },
    {
      "cell_type": "code",
      "source": [
        "import numpy as np\n",
        "a=np.array([1,2,3,4])\n",
        "\n",
        "def rightshift(arr,idx):\n",
        "    for i in range(len(arr)-1,idx,-1):\n",
        "        arr[i]=arr[i-1]\n",
        "    arr[idx]=0\n",
        "    return arr\n",
        "\n",
        "def rightrotate(arr,idx):\n",
        "    temp=arr[len(arr)-1]\n",
        "    for i in range(len(arr)-1,idx,-1):\n",
        "        arr[i]=arr[i-1]\n",
        "    arr[idx]=temp\n",
        "    return arr\n",
        "\n",
        "print(rightshift(a,0))\n",
        "\n",
        "print(rightrotate(a,0))"
      ],
      "metadata": {
        "colab": {
          "base_uri": "https://localhost:8080/"
        },
        "id": "6tSVXn5d-dks",
        "outputId": "f1414ac8-d0b4-4d06-e675-eedaa451aef4"
      },
      "execution_count": null,
      "outputs": [
        {
          "output_type": "stream",
          "name": "stdout",
          "text": [
            "[0 1 2 3]\n",
            "[3 0 1 2]\n"
          ]
        }
      ]
    },
    {
      "cell_type": "code",
      "source": [
        "import numpy as np\n",
        "a=np.array([1,2,3,4])\n",
        "\n",
        "def insert(arr,idx,elem):\n",
        "    for i in range(len(arr)-1,idx,-1):\n",
        "        arr[i]=arr[i-1]\n",
        "    arr[idx]=elem\n",
        "    return arr\n",
        "\n",
        "print(insert(a,2,10))"
      ],
      "metadata": {
        "colab": {
          "base_uri": "https://localhost:8080/"
        },
        "id": "BsZCuD0hAjAt",
        "outputId": "5715b67e-07bb-40ff-8b37-ed3f86b2bcc5"
      },
      "execution_count": null,
      "outputs": [
        {
          "output_type": "stream",
          "name": "stdout",
          "text": [
            "[ 1  2 10  3]\n"
          ]
        }
      ]
    },
    {
      "cell_type": "code",
      "source": [
        "import numpy as np\n",
        "arr=np.array([0]*5,dtype=int)\n",
        "print(arr)"
      ],
      "metadata": {
        "colab": {
          "base_uri": "https://localhost:8080/"
        },
        "id": "m7TPQ5qJwMPM",
        "outputId": "d82836c3-d0b1-41d0-a393-30c6d72bee5b"
      },
      "execution_count": 1,
      "outputs": [
        {
          "output_type": "stream",
          "name": "stdout",
          "text": [
            "[0 0 0 0 0]\n"
          ]
        }
      ]
    }
  ]
}