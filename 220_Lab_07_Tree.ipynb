{
  "cells": [
    {
      "cell_type": "markdown",
      "metadata": {
        "id": "view-in-github",
        "colab_type": "text"
      },
      "source": [
        "<a href=\"https://colab.research.google.com/github/tan003600/Data-Structure/blob/main/220_Lab_07_Tree.ipynb\" target=\"_parent\"><img src=\"https://colab.research.google.com/assets/colab-badge.svg\" alt=\"Open In Colab\"/></a>"
      ]
    },
    {
      "cell_type": "code",
      "execution_count": null,
      "metadata": {
        "id": "D6vC520OPeTa"
      },
      "outputs": [],
      "source": [
        "class BTNode:\n",
        "  def __init__(self, elem):\n",
        "    self.elem = elem\n",
        "    self.right = None\n",
        "    self.left = None"
      ]
    },
    {
      "cell_type": "code",
      "execution_count": null,
      "metadata": {
        "id": "UDTKlm4-PfNM"
      },
      "outputs": [],
      "source": [
        "def inorder(root):\n",
        "  if root == None:\n",
        "    return\n",
        "\n",
        "  inorder(root.left)\n",
        "  print(root.elem, end = ' ')\n",
        "  inorder(root.right)\n",
        "\n"
      ]
    },
    {
      "cell_type": "code",
      "execution_count": null,
      "metadata": {
        "colab": {
          "base_uri": "https://localhost:8080/"
        },
        "id": "Rtc22SPzPgzM",
        "outputId": "91d6c2d8-73d2-4119-80ff-ad5ce50526d2"
      },
      "outputs": [
        {
          "output_type": "stream",
          "name": "stdout",
          "text": [
            "H D B E A I F J C G k "
          ]
        }
      ],
      "source": [
        "def tree_construction(arr, i = 1):\n",
        "  if i>=len(arr) or arr[i] == None:\n",
        "    return None\n",
        "  p = BTNode(arr[i])\n",
        "  p.left = tree_construction(arr, 2*i)\n",
        "  p.right = tree_construction(arr, 2*i+1)\n",
        "  return p\n",
        "\n",
        "\n",
        "root2 = tree_construction([None, 'A', 'B', 'C', 'D', 'E', 'F', 'G', 'H', None, None, None, 'I', 'J', None, 'k'])\n",
        "inorder(root2)"
      ]
    },
    {
      "cell_type": "markdown",
      "metadata": {
        "id": "S2nNCJNhPqGq"
      },
      "source": [
        "Task 1"
      ]
    },
    {
      "cell_type": "code",
      "execution_count": null,
      "metadata": {
        "id": "zbBHU3FoPieb",
        "colab": {
          "base_uri": "https://localhost:8080/"
        },
        "outputId": "37fb1105-96c7-45b1-ec42-0b9dbe28f4f2"
      },
      "outputs": [
        {
          "output_type": "stream",
          "name": "stdout",
          "text": [
            "Given Tree Inorder Traversal:  40 20 60 10 30 \n",
            "Mirrored Tree Inorder Traversal:  30 10 60 20 40 "
          ]
        }
      ],
      "source": [
        "def convert_mirror(root):\n",
        "  #To Do\n",
        "  if root == None:\n",
        "    return None\n",
        "  left = convert_mirror(root.left)\n",
        "  right = convert_mirror(root.right)\n",
        "\n",
        "  root.left=right\n",
        "  root.right=left\n",
        "\n",
        "  return root\n",
        "\n",
        "#DRIVER CODE\n",
        "root = BTNode(10)\n",
        "n1 = BTNode(20)\n",
        "n2 = BTNode(30)\n",
        "n3 = BTNode(40)\n",
        "n4 = BTNode(60)\n",
        "\n",
        "root.left = n1\n",
        "root.right = n2\n",
        "\n",
        "n1.left = n3\n",
        "n1.right = n4\n",
        "\n",
        "print('Given Tree Inorder Traversal: ', end = ' ')\n",
        "inorder(root) #Given Tree Inorder Traversal:  40 20 60 10 30\n",
        "print()\n",
        "\n",
        "root2 = convert_mirror(root)\n",
        "print('Mirrored Tree Inorder Traversal: ', end = ' ')\n",
        "inorder(root2) #Mirrored Tree Inorder Traversal:  30 10 60 20 40"
      ]
    },
    {
      "cell_type": "markdown",
      "metadata": {
        "id": "c-TBf3m0PrtK"
      },
      "source": [
        "Task 2"
      ]
    },
    {
      "cell_type": "code",
      "execution_count": null,
      "metadata": {
        "id": "lsuxinlBPmji",
        "colab": {
          "base_uri": "https://localhost:8080/"
        },
        "outputId": "4f4002e4-dcfa-4b73-baa5-4bfa11aae930"
      },
      "outputs": [
        {
          "output_type": "stream",
          "name": "stdout",
          "text": [
            "Given Tree Inorder Traversal:  3 9 -5 4 2 7 \n",
            "Level Wise Smallest Value:  {0: 4, 1: 2, 2: -5}\n"
          ]
        }
      ],
      "source": [
        "def smallest_level(root):\n",
        "  #To Do\n",
        "  def smallest_lvl(root,level=0,d={}):\n",
        "    if root == None:\n",
        "      return d\n",
        "\n",
        "    if level in d.keys():\n",
        "      if d[level]>root.elem:\n",
        "        d[level]=root.elem\n",
        "    else:\n",
        "      d[level]=root.elem\n",
        "\n",
        "    smallest_lvl(root.left,level+1,d)\n",
        "    smallest_lvl(root.right,level+1,d)\n",
        "\n",
        "    return d\n",
        "\n",
        "  return smallest_lvl(root)\n",
        "\n",
        "#DRIVER CODE\n",
        "root = tree_construction([None, 4,9,2,3,-5,None,7])\n",
        "print('Given Tree Inorder Traversal: ', end = ' ')\n",
        "inorder(root) #Given Tree Inorder Traversal:  3 9 5 4 2 7\n",
        "print()\n",
        "print('Level Wise Smallest Value: ', end = ' ')\n",
        "print(smallest_level(root)) #Level Wise Smallest Value:  {0: 4, 1: 2, 2: -5}"
      ]
    },
    {
      "cell_type": "markdown",
      "metadata": {
        "id": "7r3lH3aWPz2d"
      },
      "source": [
        "Task 3"
      ]
    },
    {
      "cell_type": "code",
      "execution_count": null,
      "metadata": {
        "id": "zFwP64v4Pu6d",
        "colab": {
          "base_uri": "https://localhost:8080/"
        },
        "outputId": "5ae3f05b-75f1-46c4-f231-e0390f8be084"
      },
      "outputs": [
        {
          "output_type": "stream",
          "name": "stdout",
          "text": [
            "Given Tree Inorder Traversal:  4 8 10 12 14 20 22 \n",
            "Inorder predecessor of node 20: 14\n"
          ]
        }
      ],
      "source": [
        "def inorder_predecessor(root, x):\n",
        "  #To Do\n",
        "  if root==None:\n",
        "    return None\n",
        "\n",
        "  if root.elem == x.elem:\n",
        "    if root.left:\n",
        "      p = root.left\n",
        "      while p.right:\n",
        "        p = p.right\n",
        "      return p\n",
        "    else:\n",
        "      return None\n",
        "\n",
        "  if x.elem < root.elem:\n",
        "    return inorder_predecessor(root.left,x)\n",
        "\n",
        "  else:\n",
        "    p=inorder_predecessor(root.right,x)\n",
        "    if p:\n",
        "      return p\n",
        "    return root\n",
        "\n",
        "#DRIVER CODE\n",
        "root = BTNode(20)\n",
        "n1 = BTNode(8)\n",
        "n2 = BTNode(22)\n",
        "n3 = BTNode(4)\n",
        "n4 = BTNode(12)\n",
        "n5 = BTNode(10)\n",
        "n6 = BTNode(14)\n",
        "\n",
        "root.left = n1\n",
        "root.right = n2\n",
        "\n",
        "n1.left = n3\n",
        "n1.right = n4\n",
        "\n",
        "n4.left = n5\n",
        "n4.right = n6\n",
        "\n",
        "print('Given Tree Inorder Traversal: ', end = ' ')\n",
        "inorder(root) #Given Tree Inorder Traversal:  4 8 10 12 14 20 22\n",
        "print()\n",
        "\n",
        "x = root\n",
        "print(f'Inorder predecessor of node {x.elem}: {inorder_predecessor(root, x).elem}') #Inorder predecessor of node 20: 14"
      ]
    },
    {
      "cell_type": "markdown",
      "metadata": {
        "id": "t3IGW4OaP8Vy"
      },
      "source": [
        "Task 4"
      ]
    },
    {
      "cell_type": "code",
      "execution_count": null,
      "metadata": {
        "id": "d1A-tR7hP2fI",
        "colab": {
          "base_uri": "https://localhost:8080/"
        },
        "outputId": "cee660d0-03bc-4951-deff-7008bdd513e3"
      },
      "outputs": [
        {
          "output_type": "stream",
          "name": "stdout",
          "text": [
            "6 8 9 10 12 15 18 20 22 25 30 \n",
            "10\n"
          ]
        }
      ],
      "source": [
        "def LCA(root, x, y):\n",
        "  #To Do\n",
        "  if root  == None:\n",
        "    return None\n",
        "\n",
        "  if x < root.elem :\n",
        "    if  y < root.elem:\n",
        "       return LCA(root.left,x,y)\n",
        "\n",
        "  if x > root.elem :\n",
        "    if  y > root.elem:\n",
        "        return LCA(root.right,x,y)\n",
        "\n",
        "  return root.elem\n",
        "\n",
        "#DRIVER CODE\n",
        "#Write by yourself from the given tree\n",
        "#check all the sample inputs given\n",
        "root = BTNode(15)\n",
        "n1 = BTNode(10)\n",
        "n2 = BTNode(25)\n",
        "n3 = BTNode(8)\n",
        "n4 = BTNode(12)\n",
        "n5 = BTNode(20)\n",
        "n6 = BTNode(30)\n",
        "n7 = BTNode(6)\n",
        "n8 = BTNode(9)\n",
        "n9 = BTNode(18)\n",
        "n10 = BTNode(22)\n",
        "\n",
        "root.left=n1\n",
        "root.right=n2\n",
        "n1.left=n3\n",
        "n1.right=n4\n",
        "n2.left=n5\n",
        "n2.right=n6\n",
        "n3.left=n7\n",
        "n3.right=n8\n",
        "n5.left=n9\n",
        "n5.right=n10\n",
        "\n",
        "inorder(root)\n",
        "print()\n",
        "print(LCA(root,6,12))"
      ]
    },
    {
      "cell_type": "markdown",
      "source": [
        "Task 5"
      ],
      "metadata": {
        "id": "T3Pimbw_PLHY"
      }
    },
    {
      "cell_type": "code",
      "execution_count": null,
      "metadata": {
        "id": "m4E9_E8PThk6"
      },
      "outputs": [],
      "source": [
        "def sumTree(root):\n",
        "  pass\n",
        "  x = sum_level(root,0)\n",
        "  return x\n",
        "\n",
        "def sum_level(root,level):\n",
        "\n",
        "  if root==None:\n",
        "    return 0\n",
        "  else:\n",
        "    if level==0:\n",
        "      sum = root.elem\n",
        "    else:\n",
        "      sum = root.elem % level\n",
        "\n",
        "    sum += sum_level(root.left,level+1)\n",
        "    sum += sum_level(root.right,level+1)\n",
        "\n",
        "    return sum\n",
        "  # To DO\n",
        "  #you can declare as many helper function with extra parameters as you need .\n",
        "  #You can not modify the parameters of sumTree or modify any part of the given code."
      ]
    },
    {
      "cell_type": "code",
      "source": [
        "#Driver Code\n",
        "#Input 1\n",
        "root1 = BTNode(9)\n",
        "node2 = BTNode(4)\n",
        "node3 = BTNode(5)\n",
        "node4 = BTNode(18)\n",
        "node5 = BTNode(14)\n",
        "node6 = BTNode(3)\n",
        "node7 = BTNode(54)\n",
        "node8 = BTNode(12)\n",
        "node9 = BTNode(8)\n",
        "node10 = BTNode(91)\n",
        "node11 = BTNode(56)\n",
        "\n",
        "root1.left = node2\n",
        "root1.right = node3\n",
        "\n",
        "node2.left = node4\n",
        "\n",
        "node3.left = node5\n",
        "node3.right = node6\n",
        "\n",
        "node4.left = node7\n",
        "node4.right = node8\n",
        "\n",
        "node5.left = node9\n",
        "\n",
        "node8.left = node10\n",
        "node8.right = node11\n",
        "\n",
        "print(sumTree(root1)) #This should print 15"
      ],
      "metadata": {
        "id": "wV3ezsf_Kwli",
        "colab": {
          "base_uri": "https://localhost:8080/"
        },
        "outputId": "4ba9fe9c-4592-4e61-9b95-d2cfeb64c750"
      },
      "execution_count": null,
      "outputs": [
        {
          "output_type": "stream",
          "name": "stdout",
          "text": [
            "15\n"
          ]
        }
      ]
    },
    {
      "cell_type": "markdown",
      "source": [
        "Task 6"
      ],
      "metadata": {
        "id": "8GJeWub8Ki1X"
      }
    },
    {
      "cell_type": "code",
      "source": [
        "def swap_child(root, level, M):\n",
        "  #To Do\n",
        "  if root==None or level > M:\n",
        "    return root\n",
        "\n",
        "  elif level<M:\n",
        "    root.left,root.right = root.right, root.left\n",
        "\n",
        "  left = swap_child(root.left,level+1,M)\n",
        "  right = swap_child(root.right,level+1,M)\n",
        "\n",
        "  return root\n",
        "\n",
        "#Driver Code\n",
        "root=BTNode('A')\n",
        "#Write other nodes by yourself from the given tree of Doc File\n",
        "\n",
        "\n",
        "print('Given Tree Inorder Traversal: ', end = ' ')\n",
        "inorder(root)   #Given Tree Inorder Traversal: G D H B I E A C J F\n",
        "print()\n",
        "\n",
        "root2 = swap_child(root, 0, 2)\n",
        "print('Swapped Tree Inorder Traversal: ', end = ' ')\n",
        "inorder(root2)  #Swapped Tree Inorder Traversal: J F C A I E B G D H"
      ],
      "metadata": {
        "id": "0Rb_m6FRKktN",
        "colab": {
          "base_uri": "https://localhost:8080/"
        },
        "outputId": "d37e5fd1-3cb8-44d8-ccdf-a9632df2a5e3"
      },
      "execution_count": null,
      "outputs": [
        {
          "output_type": "stream",
          "name": "stdout",
          "text": [
            "Given Tree Inorder Traversal:  A \n",
            "Swapped Tree Inorder Traversal:  A "
          ]
        }
      ]
    },
    {
      "cell_type": "markdown",
      "source": [
        "Task 7"
      ],
      "metadata": {
        "id": "VrHklDOEKlHf"
      }
    },
    {
      "cell_type": "code",
      "source": [
        "def subtract_summation(root):\n",
        "  #To Do\n",
        "  left_sum = Left_sum(root.left)\n",
        "  right_sum = Right_sum(root.right)\n",
        "\n",
        "  result = left_sum - right_sum\n",
        "\n",
        "  return result\n",
        "\n",
        "\n",
        "def Left_sum(root):\n",
        "  if root==None:\n",
        "    return 0\n",
        "  left_sub = root.elem\n",
        "  left_sub += Left_sum(root.left)\n",
        "  left_sub += Left_sum(root.right)\n",
        "\n",
        "  return left_sub\n",
        "\n",
        "def Right_sum(root):\n",
        "  if root==None:\n",
        "    return 0\n",
        "  right_sub = root.elem\n",
        "  right_sub += Right_sum(root.left)\n",
        "  right_sub += Right_sum(root.right)\n",
        "\n",
        "  return right_sub\n",
        "\n",
        "\n",
        "#Driver Code\n",
        "root=BTNode(71)\n",
        "#Write other nodes by yourself from the given tree of Doc File\n",
        "n1 = BTNode(27)\n",
        "n2 = BTNode(62)\n",
        "n3 = BTNode(80)\n",
        "n4 = BTNode(75)\n",
        "n5 = BTNode(87)\n",
        "n6 = BTNode(56)\n",
        "n7 = BTNode(41)\n",
        "n8 = BTNode(3)\n",
        "n9 = BTNode(19)\n",
        "n10= BTNode(89)\n",
        "\n",
        "root.left=n1\n",
        "root.right=n2\n",
        "n1.left=n3\n",
        "n1.right=n4\n",
        "n3.left=n5\n",
        "n3.right=n6\n",
        "n2.left=n7\n",
        "n2.right=n8\n",
        "n8.left=n9\n",
        "n8.right=n10\n",
        "inorder(root)\n",
        "print()\n",
        "\n",
        "print(subtract_summation(root)) #This should print 111"
      ],
      "metadata": {
        "id": "dMXJ2qxkNn_F",
        "colab": {
          "base_uri": "https://localhost:8080/"
        },
        "outputId": "0039d93c-d121-4cc5-f564-99e5b957e67d"
      },
      "execution_count": null,
      "outputs": [
        {
          "output_type": "stream",
          "name": "stdout",
          "text": [
            "87 80 56 27 75 71 41 62 19 3 89 \n",
            "111\n"
          ]
        }
      ]
    },
    {
      "cell_type": "markdown",
      "metadata": {
        "id": "SBD-0xoZP_ni"
      },
      "source": [
        "Bonus Task"
      ]
    },
    {
      "cell_type": "code",
      "source": [
        "def level_sum(root):\n",
        "  #To Do\n",
        "\n",
        "#DRIVER CODE\n",
        "root = BTNode(1)\n",
        "n2 = BTNode(2)\n",
        "n3 = BTNode(3)\n",
        "n4 = BTNode(4)\n",
        "n5 = BTNode(5)\n",
        "n6 = BTNode(6)\n",
        "n7 = BTNode(7)\n",
        "n8 = BTNode(8)\n",
        "root.left = n2\n",
        "root.right = n3\n",
        "\n",
        "n2.left = n4\n",
        "n3.left = n5\n",
        "n3.right = n6\n",
        "\n",
        "n5.left = n7\n",
        "n5.right = n8\n",
        "\n",
        "\n",
        "print(level_sum(root)) #This should print 4"
      ],
      "metadata": {
        "id": "U_LYhaRIxZCb"
      },
      "execution_count": null,
      "outputs": []
    }
  ],
  "metadata": {
    "colab": {
      "provenance": [],
      "include_colab_link": true
    },
    "kernelspec": {
      "display_name": "Python 3",
      "name": "python3"
    },
    "language_info": {
      "name": "python"
    }
  },
  "nbformat": 4,
  "nbformat_minor": 0
}